{
  "nbformat": 4,
  "nbformat_minor": 0,
  "metadata": {
    "colab": {
      "name": "Sudoku_train.ipynb",
      "provenance": [],
      "collapsed_sections": []
    },
    "kernelspec": {
      "name": "python3",
      "display_name": "Python 3"
    },
    "accelerator": "GPU"
  },
  "cells": [
    {
      "cell_type": "code",
      "metadata": {
        "id": "YSZVcQZVFcLQ",
        "colab_type": "code",
        "outputId": "38c1c9de-fc6f-482d-dad1-7e7b4bb18f30",
        "colab": {
          "base_uri": "https://localhost:8080/",
          "height": 51
        }
      },
      "source": [
        "import numpy as np\n",
        "from google.colab import drive\n",
        "drive.mount('/content/drive/', force_remount=True)\n",
        "%autosave 100"
      ],
      "execution_count": 11,
      "outputs": [
        {
          "output_type": "stream",
          "text": [
            "Mounted at /content/drive/\n"
          ],
          "name": "stdout"
        },
        {
          "output_type": "display_data",
          "data": {
            "application/javascript": [
              "IPython.notebook.set_autosave_interval(100000)"
            ]
          },
          "metadata": {
            "tags": []
          }
        },
        {
          "output_type": "stream",
          "text": [
            "Autosaving every 100 seconds\n"
          ],
          "name": "stdout"
        }
      ]
    },
    {
      "cell_type": "code",
      "metadata": {
        "id": "-xuq8hloWivk",
        "colab_type": "code",
        "colab": {}
      },
      "source": [
        "import torch\n",
        "from torch import nn, optim\n",
        "from torch.utils.data import DataLoader\n",
        "import torch.nn.functional as F\n",
        "from torch.utils.data import Dataset\n",
        "\n",
        "import numpy as np\n",
        "import pandas as pd\n",
        "import matplotlib.pyplot as plt\n",
        "\n",
        "from IPython.display import Image"
      ],
      "execution_count": 0,
      "outputs": []
    },
    {
      "cell_type": "code",
      "metadata": {
        "id": "hdnqIFRwIMZ2",
        "colab_type": "code",
        "outputId": "ffbb5280-0392-4914-82fa-537c9235306f",
        "colab": {
          "base_uri": "https://localhost:8080/",
          "height": 1000
        }
      },
      "source": [
        "quizes = np.empty((1000000, 81), np.float32)\n",
        "solutions = np.empty((1000000, 81), np.int64)\n",
        "\n",
        "i=0\n",
        "f = open(\"/content/drive/My Drive/Colab Notebooks/sudoku.csv\")\n",
        "for line in f:\n",
        "    quiz, solution = line.strip().split(\",\")\n",
        "    quizes[i] = [int(i) for i in quiz]\n",
        "    solutions[i] = [int(i) for i in solution]\n",
        "    i += 1\n",
        "    if i % 10000 == 0:\n",
        "        print(\"loaded\", i//10000, \"%\")\n",
        "\n",
        "quizes = quizes.reshape((-1, 9, 9))\n",
        "solutions = solutions.reshape((-1, 9, 9))\n",
        "\n",
        "print(\"quizes\\n\", quizes.shape, quizes[0])\n",
        "print(\"solutions\\n\", solutions.shape, solutions[0])\n",
        "\n",
        "shuf = np.random.permutation(quizes.shape[0])\n",
        "print(\"shuf\", shuf.shape, shuf)\n",
        "quizes = quizes[shuf]\n",
        "solutions = solutions[shuf]\n",
        "\n",
        "print(\"quizes\\n\", quizes.shape, quizes[0])\n",
        "print(\"solutions\\n\", solutions.shape, solutions[0])"
      ],
      "execution_count": 13,
      "outputs": [
        {
          "output_type": "stream",
          "text": [
            "loaded 1 %\n",
            "loaded 2 %\n",
            "loaded 3 %\n",
            "loaded 4 %\n",
            "loaded 5 %\n",
            "loaded 6 %\n",
            "loaded 7 %\n",
            "loaded 8 %\n",
            "loaded 9 %\n",
            "loaded 10 %\n",
            "loaded 11 %\n",
            "loaded 12 %\n",
            "loaded 13 %\n",
            "loaded 14 %\n",
            "loaded 15 %\n",
            "loaded 16 %\n",
            "loaded 17 %\n",
            "loaded 18 %\n",
            "loaded 19 %\n",
            "loaded 20 %\n",
            "loaded 21 %\n",
            "loaded 22 %\n",
            "loaded 23 %\n",
            "loaded 24 %\n",
            "loaded 25 %\n",
            "loaded 26 %\n",
            "loaded 27 %\n",
            "loaded 28 %\n",
            "loaded 29 %\n",
            "loaded 30 %\n",
            "loaded 31 %\n",
            "loaded 32 %\n",
            "loaded 33 %\n",
            "loaded 34 %\n",
            "loaded 35 %\n",
            "loaded 36 %\n",
            "loaded 37 %\n",
            "loaded 38 %\n",
            "loaded 39 %\n",
            "loaded 40 %\n",
            "loaded 41 %\n",
            "loaded 42 %\n",
            "loaded 43 %\n",
            "loaded 44 %\n",
            "loaded 45 %\n",
            "loaded 46 %\n",
            "loaded 47 %\n",
            "loaded 48 %\n",
            "loaded 49 %\n",
            "loaded 50 %\n",
            "loaded 51 %\n",
            "loaded 52 %\n",
            "loaded 53 %\n",
            "loaded 54 %\n",
            "loaded 55 %\n",
            "loaded 56 %\n",
            "loaded 57 %\n",
            "loaded 58 %\n",
            "loaded 59 %\n",
            "loaded 60 %\n",
            "loaded 61 %\n",
            "loaded 62 %\n",
            "loaded 63 %\n",
            "loaded 64 %\n",
            "loaded 65 %\n",
            "loaded 66 %\n",
            "loaded 67 %\n",
            "loaded 68 %\n",
            "loaded 69 %\n",
            "loaded 70 %\n",
            "loaded 71 %\n",
            "loaded 72 %\n",
            "loaded 73 %\n",
            "loaded 74 %\n",
            "loaded 75 %\n",
            "loaded 76 %\n",
            "loaded 77 %\n",
            "loaded 78 %\n",
            "loaded 79 %\n",
            "loaded 80 %\n",
            "loaded 81 %\n",
            "loaded 82 %\n",
            "loaded 83 %\n",
            "loaded 84 %\n",
            "loaded 85 %\n",
            "loaded 86 %\n",
            "loaded 87 %\n",
            "loaded 88 %\n",
            "loaded 89 %\n",
            "loaded 90 %\n",
            "loaded 91 %\n",
            "loaded 92 %\n",
            "loaded 93 %\n",
            "loaded 94 %\n",
            "loaded 95 %\n",
            "loaded 96 %\n",
            "loaded 97 %\n",
            "loaded 98 %\n",
            "loaded 99 %\n",
            "loaded 100 %\n",
            "quizes\n",
            " (1000000, 9, 9) [[0. 0. 4. 3. 0. 0. 2. 0. 9.]\n",
            " [0. 0. 5. 0. 0. 9. 0. 0. 1.]\n",
            " [0. 7. 0. 0. 6. 0. 0. 4. 3.]\n",
            " [0. 0. 6. 0. 0. 2. 0. 8. 7.]\n",
            " [1. 9. 0. 0. 0. 7. 4. 0. 0.]\n",
            " [0. 5. 0. 0. 8. 3. 0. 0. 0.]\n",
            " [6. 0. 0. 0. 0. 0. 1. 0. 5.]\n",
            " [0. 0. 3. 5. 0. 8. 6. 9. 0.]\n",
            " [0. 4. 2. 9. 1. 0. 3. 0. 0.]]\n",
            "solutions\n",
            " (1000000, 9, 9) [[8 6 4 3 7 1 2 5 9]\n",
            " [3 2 5 8 4 9 7 6 1]\n",
            " [9 7 1 2 6 5 8 4 3]\n",
            " [4 3 6 1 9 2 5 8 7]\n",
            " [1 9 8 6 5 7 4 3 2]\n",
            " [2 5 7 4 8 3 9 1 6]\n",
            " [6 8 9 7 3 4 1 2 5]\n",
            " [7 1 3 5 2 8 6 9 4]\n",
            " [5 4 2 9 1 6 3 7 8]]\n",
            "shuf (1000000,) [ 60670  84834 147679 ... 170051  81607 855453]\n",
            "quizes\n",
            " (1000000, 9, 9) [[4. 0. 0. 0. 5. 3. 0. 2. 0.]\n",
            " [0. 3. 8. 0. 0. 0. 0. 0. 6.]\n",
            " [0. 0. 5. 1. 8. 0. 0. 4. 0.]\n",
            " [0. 0. 0. 4. 0. 1. 8. 0. 7.]\n",
            " [9. 6. 0. 0. 0. 0. 3. 0. 0.]\n",
            " [0. 0. 1. 0. 9. 2. 5. 0. 0.]\n",
            " [8. 0. 9. 6. 0. 0. 4. 0. 1.]\n",
            " [0. 0. 2. 5. 0. 0. 0. 7. 9.]\n",
            " [6. 0. 0. 9. 3. 0. 0. 0. 0.]]\n",
            "solutions\n",
            " (1000000, 9, 9) [[4 9 6 7 5 3 1 2 8]\n",
            " [1 3 8 2 4 9 7 5 6]\n",
            " [2 7 5 1 8 6 9 4 3]\n",
            " [5 2 3 4 6 1 8 9 7]\n",
            " [9 6 4 8 7 5 3 1 2]\n",
            " [7 8 1 3 9 2 5 6 4]\n",
            " [8 5 9 6 2 7 4 3 1]\n",
            " [3 4 2 5 1 8 6 7 9]\n",
            " [6 1 7 9 3 4 2 8 5]]\n"
          ],
          "name": "stdout"
        }
      ]
    },
    {
      "cell_type": "code",
      "metadata": {
        "id": "MuEN8Jx8LKad",
        "colab_type": "code",
        "colab": {
          "base_uri": "https://localhost:8080/",
          "height": 281
        },
        "outputId": "d1230223-d90f-4d5c-829e-41253330f2a2"
      },
      "source": [
        "num_zeros = np.empty((1000000), np.float32)\n",
        "zeros_ = np.zeros_like(quizes[0])\n",
        "for i in range(quizes.shape[0]):\n",
        "    num_zeros[i] = np.sum(np.equal(zeros_, quizes[i]))\n",
        "\n",
        "plt.hist(num_zeros, bins = 8, density=True)\n",
        "plt.title(\"Distribution of spaces in puzzles\")\n",
        "plt.show()"
      ],
      "execution_count": 14,
      "outputs": [
        {
          "output_type": "display_data",
          "data": {
            "image/png": "[encoded data removed]",
            "text/plain": [
              "<Figure size 432x288 with 1 Axes>"
            ]
          },
          "metadata": {
            "tags": [],
            "needs_background": "light"
          }
        }
      ]
    },
    {
      "cell_type": "code",
      "metadata": {
        "id": "lhAvcUFAKDF7",
        "colab_type": "code",
        "colab": {}
      },
      "source": [
        "class ConvNet(nn.Module):\n",
        "  def __init__(self, c_in, c_out, filt=3, stride=1, padding=1):\n",
        "    super(ConvNet, self).__init__()\n",
        "\n",
        "    self.conv = nn.Conv2d(c_in, c_out, (filt, filt), stride=stride, padding=padding)\n",
        "    self.bn = nn.BatchNorm2d(c_out)\n",
        "  \n",
        "  def forward(self, x):\n",
        "    n, c, h, w = x.shape\n",
        "    z = F.relu(self.bn(self.conv(x)))\n",
        "    return z\n",
        "\n",
        "# n1 - number of conv layers with kernel size (3, 3) - try to learn local\n",
        "# n2 - number of conv layers with kernel size (9, 9) - try to learn global\n",
        "# c_mid - number of kernels in conv layers\n",
        "class SudokuNet(nn.Module):\n",
        "  # !!! c_out should be 10 !!!\n",
        "  def __init__(self, n, n2, c_mid, c_in=1, c_out=10):\n",
        "    super(SudokuNet, self).__init__()\n",
        "    self.conv1 = ConvNet(c_in, c_mid)\n",
        "\n",
        "    self.seq = nn.Sequential()\n",
        "    for i in range(n):\n",
        "      self.seq.add_module(str(i), ConvNet(c_mid, c_mid, 3, 1, 1))\n",
        "\n",
        "    self.seq2 = nn.Sequential()\n",
        "    for i in range(n2):\n",
        "      self.seq2.add_module(str(i), ConvNet(c_mid, c_mid, 9, 1, 4))\n",
        "\n",
        "\n",
        "    self.convLast = nn.Conv2d(c_mid, c_out, (3,3), stride=1, padding=1)\n",
        "    self.logsoftmax = nn.LogSoftmax(dim=1)\n",
        "\n",
        "    \n",
        "  def forward(self, x):\n",
        "    z = self.conv1(x)\n",
        "    z = self.seq(z)\n",
        "    z = self.seq2(z)\n",
        "    z = self.logsoftmax(self.convLast(z))\n",
        "    return z\n"
      ],
      "execution_count": 0,
      "outputs": []
    },
    {
      "cell_type": "code",
      "metadata": {
        "id": "P-TAZUswi7YL",
        "colab_type": "code",
        "colab": {}
      },
      "source": [
        "# train in range [start, end) with batch_size\n",
        "# change start/end to reduce training time\n",
        "def train_epoch(model, opt, loss, batch_size, start=0, end=900000):\n",
        "    model.train(True)\n",
        "    for i in range(start, end, batch_size):\n",
        "        x = quizes[i:i+batch_size]\n",
        "        y = solutions[i:i+batch_size]\n",
        "        x = x[:, np.newaxis]\n",
        "        \n",
        "        X, y = torch.from_numpy(x), torch.from_numpy(y)\n",
        "\n",
        "        if torch.cuda.is_available():\n",
        "            X = X.cuda()\n",
        "            y = y.cuda()\n",
        "\n",
        "        opt.zero_grad()\n",
        "        y_ = model(X)\n",
        "        loss_value = loss(y_, y)\n",
        "        loss_value.backward()\n",
        "        opt.step()"
      ],
      "execution_count": 0,
      "outputs": []
    },
    {
      "cell_type": "code",
      "metadata": {
        "id": "xFCWOXhM5Yej",
        "colab_type": "code",
        "colab": {}
      },
      "source": [
        "# get accuracy in range [start, end) with batch_size\n",
        "# change start/end to reduce running time\n",
        "# choose wisely, so that |train| : |test| = 9 : 1 (or 99 : 1)\n",
        "def get_accuracy(model, batch_size, start=900000, end=1000000):\n",
        "    model.train(mode=False)\n",
        "\n",
        "    total_samples = 0\n",
        "    total_correct = 0\n",
        "    known_samples = 0\n",
        "    known_correct = 0\n",
        "    \n",
        "    zeros_count = 0\n",
        "\n",
        "    for i in range(start, end, batch_size):\n",
        "        x = quizes[i:i+batch_size]\n",
        "        y = solutions[i:i+batch_size]\n",
        "        x = x[:, np.newaxis]\n",
        "\n",
        "        X, y = torch.from_numpy(x), torch.from_numpy(y)\n",
        "        zeros_ = torch.zeros_like(y)\n",
        "\n",
        "        if torch.cuda.is_available():\n",
        "            X = X.cuda()\n",
        "            y = y.cuda()\n",
        "            x_ = torch.from_numpy(quizes[i:i+batch_size]).cuda()\n",
        "            zeros_ = zeros_.cuda()\n",
        "\n",
        "        y_ = model(X)\n",
        "        _, y_ = torch.max(y_, axis=1)\n",
        "        \n",
        "        total_samples += 81 * batch_size\n",
        "        sum_ = torch.sum(torch.eq(y_, y).type(torch.FloatTensor))\n",
        "        total_correct += sum_.item()\n",
        "\n",
        "        known_samples += 81 * batch_size - np.sum(num_zeros[i:i+batch_size])\n",
        "        known_sum_ = torch.sum(torch.eq(y_, x_).type(torch.FloatTensor))\n",
        "        known_correct += known_sum_.item()\n",
        "\n",
        "        zeros_count += torch.sum(torch.eq(y_, zeros_).type(torch.FloatTensor)).item()\n",
        "\n",
        "    return total_correct / total_samples, known_correct / known_samples, (total_correct - known_correct) / (total_samples - known_samples), zeros_count"
      ],
      "execution_count": 0,
      "outputs": []
    },
    {
      "cell_type": "code",
      "metadata": {
        "id": "jNf0cxDbjvwT",
        "colab_type": "code",
        "colab": {}
      },
      "source": [
        "def train_net(epochs, batch_size):\n",
        "    total_accuracies = []\n",
        "    known_accuracies = []\n",
        "    unknown_accuracies = []\n",
        "    zeros_count = []\n",
        "    for epoch in range(epochs):\n",
        "        \n",
        "        train_epoch(model, opt, loss, batch_size=batch_size)\n",
        "        acc, kn, unkn, zc = get_accuracy(model, batch_size=batch_size)\n",
        "        total_accuracies.append(acc)\n",
        "        known_accuracies.append(kn)\n",
        "        unknown_accuracies.append(unkn)\n",
        "        zeros_count.append(zc)\n",
        "        print(f'epoch: [{epoch+1}/{epochs}], accuracy: {acc}, known_accuracy: {kn}, unknown_accuracy: {unkn}, zeros_count: {zc}')\n",
        "    return total_accuracies, known_accuracies, unknown_accuracies, zeros_count"
      ],
      "execution_count": 0,
      "outputs": []
    },
    {
      "cell_type": "code",
      "metadata": {
        "id": "PqBGX006_gGO",
        "colab_type": "code",
        "outputId": "072ecbb9-0ef5-4c42-9570-32ced89d142c",
        "colab": {
          "base_uri": "https://localhost:8080/",
          "height": 34
        }
      },
      "source": [
        "n = 10\n",
        "n2 = 0\n",
        "c_mid=100\n",
        "model = SudokuNet(n=n, n2=n2, c_mid=c_mid)\n",
        "if torch.cuda.is_available():\n",
        "    print(\"cuda\")\n",
        "    model.cuda()\n",
        "else:\n",
        "    print(\"cpu\")\n",
        "# Adam seems to work better\n",
        "#opt = optim.SGD(model.parameters(), lr=0.1, weight_decay=0.0001, momentum=0.9)\n",
        "opt = optim.Adam(model.parameters())\n",
        "loss = nn.NLLLoss()"
      ],
      "execution_count": 41,
      "outputs": [
        {
          "output_type": "stream",
          "text": [
            "cuda\n"
          ],
          "name": "stdout"
        }
      ]
    },
    {
      "cell_type": "code",
      "metadata": {
        "id": "4uY_YLLgj8gz",
        "colab_type": "code",
        "outputId": "c5a7b813-4e50-45d9-e21c-91ccbc999e43",
        "colab": {
          "base_uri": "https://localhost:8080/",
          "height": 867
        }
      },
      "source": [
        "epochs=50\n",
        "total_accuracies, known_accuracies, unknown_accuracies, zeros_count = train_net(epochs=epochs, batch_size=1000)"
      ],
      "execution_count": 42,
      "outputs": [
        {
          "output_type": "stream",
          "text": [
            "epoch: [1/50], accuracy: 0.7821453086419753, known_accuracy: 0.9999979298570507, unknown_accuracy: 0.6260290412964379, zeros_count: 0.0\n",
            "epoch: [2/50], accuracy: 0.8518656790123457, known_accuracy: 0.9999988170611719, unknown_accuracy: 0.7457113786721502, zeros_count: 0.0\n",
            "epoch: [3/50], accuracy: 0.8792232098765432, known_accuracy: 0.9999985213264648, unknown_accuracy: 0.7926739147342925, zeros_count: 0.0\n",
            "epoch: [4/50], accuracy: 0.8986395061728395, known_accuracy: 0.9999991127958788, unknown_accuracy: 0.8260037795180807, zeros_count: 0.0\n",
            "epoch: [5/50], accuracy: 0.9133417283950618, known_accuracy: 0.9999988170611719, unknown_accuracy: 0.851242033903765, zeros_count: 0.0\n",
            "epoch: [6/50], accuracy: 0.9242195061728395, known_accuracy: 0.9999988170611719, unknown_accuracy: 0.8699149809763126, zeros_count: 0.0\n",
            "epoch: [7/50], accuracy: 0.9318867901234568, known_accuracy: 0.9999994085305859, unknown_accuracy: 0.8830763251148489, zeros_count: 0.0\n",
            "epoch: [8/50], accuracy: 0.9378858024691358, known_accuracy: 0.9999991127958788, unknown_accuracy: 0.8933745264211287, zeros_count: 0.0\n",
            "epoch: [9/50], accuracy: 0.9427124691358024, known_accuracy: 0.9999988170611719, unknown_accuracy: 0.9016602625656684, zeros_count: 0.0\n",
            "epoch: [10/50], accuracy: 0.9468481481481481, known_accuracy: 0.9999997042652929, unknown_accuracy: 0.9087589918261617, zeros_count: 0.0\n",
            "epoch: [11/50], accuracy: 0.9502932098765432, known_accuracy: 0.9999991127958788, unknown_accuracy: 0.9146732573346578, zeros_count: 0.0\n",
            "epoch: [12/50], accuracy: 0.9531958024691358, known_accuracy: 0.9999985213264648, unknown_accuracy: 0.9196563126577404, zeros_count: 0.0\n",
            "epoch: [13/50], accuracy: 0.9555879012345679, known_accuracy: 0.9999982255917578, unknown_accuracy: 0.9237628351344713, zeros_count: 0.0\n",
            "epoch: [14/50], accuracy: 0.9579871604938272, known_accuracy: 0.9999994085305859, unknown_accuracy: 0.9278805897777536, zeros_count: 0.0\n",
            "epoch: [15/50], accuracy: 0.9596296296296296, known_accuracy: 1.0, unknown_accuracy: 0.9306996516544875, zeros_count: 0.0\n",
            "epoch: [16/50], accuracy: 0.9608948148148149, known_accuracy: 0.9999994085305859, unknown_accuracy: 0.9328719102799967, zeros_count: 0.0\n",
            "epoch: [17/50], accuracy: 0.9620388888888889, known_accuracy: 0.9999997042652929, unknown_accuracy: 0.934835632077457, zeros_count: 0.0\n",
            "epoch: [18/50], accuracy: 0.9629046913580247, known_accuracy: 0.9999997042652929, unknown_accuracy: 0.9363218808326469, zeros_count: 0.0\n",
            "epoch: [19/50], accuracy: 0.9638422222222223, known_accuracy: 0.9999997042652929, unknown_accuracy: 0.9379312595645607, zeros_count: 0.0\n",
            "epoch: [20/50], accuracy: 0.9647918518518519, known_accuracy: 1.0, unknown_accuracy: 0.9395611952805403, zeros_count: 0.0\n",
            "epoch: [21/50], accuracy: 0.965624074074074, known_accuracy: 0.9999997042652929, unknown_accuracy: 0.9409900116369484, zeros_count: 0.0\n",
            "epoch: [22/50], accuracy: 0.9665156790123457, known_accuracy: 1.0, unknown_accuracy: 0.9425203413476608, zeros_count: 0.0\n",
            "epoch: [23/50], accuracy: 0.9672218518518518, known_accuracy: 1.0, unknown_accuracy: 0.9437325676245303, zeros_count: 0.0\n",
            "epoch: [24/50], accuracy: 0.9679365432098765, known_accuracy: 1.0, unknown_accuracy: 0.9449594169106837, zeros_count: 0.0\n",
            "epoch: [25/50], accuracy: 0.9686483950617284, known_accuracy: 1.0, unknown_accuracy: 0.9461813918604092, zeros_count: 0.0\n",
            "epoch: [26/50], accuracy: 0.9690151851851851, known_accuracy: 1.0, unknown_accuracy: 0.9468110289703007, zeros_count: 0.0\n",
            "epoch: [27/50], accuracy: 0.9693538271604938, known_accuracy: 0.9999997042652929, unknown_accuracy: 0.9473925584989248, zeros_count: 0.0\n",
            "epoch: [28/50], accuracy: 0.9700016049382716, known_accuracy: 0.9999997042652929, unknown_accuracy: 0.9485045429875147, zeros_count: 0.0\n",
            "epoch: [29/50], accuracy: 0.970603950617284, known_accuracy: 0.9999994085305859, unknown_accuracy: 0.9495387500209278, zeros_count: 0.0\n",
            "epoch: [30/50], accuracy: 0.970745061728395, known_accuracy: 0.9999997042652929, unknown_accuracy: 0.9497807714209602, zeros_count: 0.0\n",
            "epoch: [31/50], accuracy: 0.9711377777777778, known_accuracy: 0.9999997042652929, unknown_accuracy: 0.9504549133417158, zeros_count: 0.0\n",
            "epoch: [32/50], accuracy: 0.9716453086419753, known_accuracy: 1.0, unknown_accuracy: 0.9513259360686273, zeros_count: 0.0\n",
            "epoch: [33/50], accuracy: 0.9718379012345679, known_accuracy: 0.9999997042652929, unknown_accuracy: 0.951656755162717, zeros_count: 0.0\n",
            "epoch: [34/50], accuracy: 0.972142962962963, known_accuracy: 0.9999997042652929, unknown_accuracy: 0.9521804284372178, zeros_count: 0.0\n",
            "epoch: [35/50], accuracy: 0.9724827160493827, known_accuracy: 0.9999997042652929, unknown_accuracy: 0.9527636533872081, zeros_count: 0.0\n",
            "epoch: [36/50], accuracy: 0.9727122222222222, known_accuracy: 0.9999997042652929, unknown_accuracy: 0.9531576269271907, zeros_count: 0.0\n",
            "epoch: [37/50], accuracy: 0.9728077777777778, known_accuracy: 0.9999997042652929, unknown_accuracy: 0.9533216589443756, zeros_count: 0.0\n",
            "epoch: [38/50], accuracy: 0.9729441975308643, known_accuracy: 0.9999997042652929, unknown_accuracy: 0.9535558390205889, zeros_count: 0.0\n",
            "epoch: [39/50], accuracy: 0.9730732098765432, known_accuracy: 0.9999997042652929, unknown_accuracy: 0.9537773034365555, zeros_count: 0.0\n",
            "epoch: [40/50], accuracy: 0.9734779012345679, known_accuracy: 1.0, unknown_accuracy: 0.9544717904137061, zeros_count: 0.0\n",
            "epoch: [41/50], accuracy: 0.9735871604938272, known_accuracy: 1.0, unknown_accuracy: 0.9546593464023476, zeros_count: 0.0\n",
            "epoch: [42/50], accuracy: 0.9737949382716049, known_accuracy: 0.9999994085305859, unknown_accuracy: 0.9550164445276142, zeros_count: 0.0\n",
            "epoch: [43/50], accuracy: 0.9741107407407408, known_accuracy: 0.9999994085305859, unknown_accuracy: 0.9555585555094731, zeros_count: 0.0\n",
            "epoch: [44/50], accuracy: 0.9741769135802469, known_accuracy: 0.9999997042652929, unknown_accuracy: 0.9556719368133411, zeros_count: 0.0\n",
            "epoch: [45/50], accuracy: 0.9743496296296297, known_accuracy: 0.9999991127958788, unknown_accuracy: 0.9559688474801058, zeros_count: 0.0\n",
            "epoch: [46/50], accuracy: 0.9745062962962963, known_accuracy: 0.9999994085305859, unknown_accuracy: 0.9562375717666566, zeros_count: 0.0\n",
            "epoch: [47/50], accuracy: 0.9746867901234568, known_accuracy: 1.0, unknown_accuracy: 0.9565469861659974, zeros_count: 0.0\n",
            "epoch: [48/50], accuracy: 0.9746718518518519, known_accuracy: 0.9999991127958788, unknown_accuracy: 0.9565219787008452, zeros_count: 0.0\n",
            "epoch: [49/50], accuracy: 0.9747871604938272, known_accuracy: 0.9999994085305859, unknown_accuracy: 0.9567197072176843, zeros_count: 0.0\n",
            "epoch: [50/50], accuracy: 0.9748279012345679, known_accuracy: 0.9999994085305859, unknown_accuracy: 0.9567896433490422, zeros_count: 0.0\n"
          ],
          "name": "stdout"
        }
      ]
    },
    {
      "cell_type": "code",
      "metadata": {
        "id": "lrlNQAVHFXlV",
        "colab_type": "code",
        "outputId": "507527b0-0886-49dc-f414-ee70b03b8477",
        "colab": {
          "base_uri": "https://localhost:8080/",
          "height": 320
        }
      },
      "source": [
        "dat = pd.DataFrame({'a':np.array(total_accuracies), 'kn':np.array(known_accuracies), 'unkn':np.array(unknown_accuracies), 'zc':np.array(zeros_count)})\n",
        "dat['epoch'] = np.arange(epochs)\n",
        "\n",
        "fig, ax = plt.subplots(1, 1, figsize=(15,5))\n",
        "ax.plot(dat['epoch'], dat['a'], color='blue', label='Total accuracy')\n",
        "ax.plot(dat['epoch'], dat['kn'], color='green', label='Known accuracy')\n",
        "ax.plot(dat['epoch'], dat['unkn'], color='red', label='Unknown accuracy')\n",
        "ax.legend()\n",
        "\n",
        "plt.savefig(\"/content/drive/My Drive/Colab Notebooks/30.04_acc_\" + str(n) + \"_\" + str(n2) + \"_\" + str(c_mid) + \".png\")"
      ],
      "execution_count": 47,
      "outputs": [
        {
          "output_type": "display_data",
          "data": {
            "image/png": "[encoded data removed]",
            "text/plain": [
              "<Figure size 1080x360 with 1 Axes>"
            ]
          },
          "metadata": {
            "tags": [],
            "needs_background": "light"
          }
        }
      ]
    },
    {
      "cell_type": "code",
      "metadata": {
        "id": "gWjZk65ZscfM",
        "colab_type": "code",
        "colab": {}
      },
      "source": [
        "\n",
        "torch.save({\n",
        "            'model_state_dict': model.state_dict(),\n",
        "            'optimizer_state_dict': opt.state_dict(),\n",
        "            'total_accuracies': total_accuracies,\n",
        "            'known_accuracies': known_accuracies,\n",
        "            'unknown_accuracies': unknown_accuracies,\n",
        "            'zeros_count': zeros_count,\n",
        "            'epochs': epochs\n",
        "            }, \"/content/drive/My Drive/Colab Notebooks/30.04_model_\" + str(n) + \"_\" + str(n2) + \"_\" + str(c_mid) + \".tar\")\n",
        "\n"
      ],
      "execution_count": 0,
      "outputs": []
    },
    {
      "cell_type": "code",
      "metadata": {
        "id": "ZSASQSGZuwpl",
        "colab_type": "code",
        "colab": {}
      },
      "source": [
        ""
      ],
      "execution_count": 0,
      "outputs": []
    }
  ]
}