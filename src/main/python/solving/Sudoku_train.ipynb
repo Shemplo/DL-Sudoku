{
  "nbformat": 4,
  "nbformat_minor": 0,
  "metadata": {
    "colab": {
      "name": "Copy of Sudoku_train.ipynb",
      "provenance": [],
      "collapsed_sections": []
    },
    "kernelspec": {
      "name": "python3",
      "display_name": "Python 3"
    },
    "accelerator": "GPU"
  },
  "cells": [
    {
      "cell_type": "code",
      "metadata": {
        "id": "heNG1HAO-Utf",
        "colab_type": "code",
        "outputId": "d3f38674-d4f8-49d2-ad21-578eb4e2761a",
        "colab": {
          "base_uri": "https://localhost:8080/",
          "height": 476
        }
      },
      "source": [
        "from tensorflow.python.client import device_lib\n",
        "device_lib.list_local_devices()"
      ],
      "execution_count": 0,
      "outputs": [
        {
          "output_type": "execute_result",
          "data": {
            "text/plain": [
              "[name: \"/device:CPU:0\"\n",
              " device_type: \"CPU\"\n",
              " memory_limit: 268435456\n",
              " locality {\n",
              " }\n",
              " incarnation: 7060546036095925309, name: \"/device:XLA_CPU:0\"\n",
              " device_type: \"XLA_CPU\"\n",
              " memory_limit: 17179869184\n",
              " locality {\n",
              " }\n",
              " incarnation: 4253956779515421197\n",
              " physical_device_desc: \"device: XLA_CPU device\", name: \"/device:XLA_GPU:0\"\n",
              " device_type: \"XLA_GPU\"\n",
              " memory_limit: 17179869184\n",
              " locality {\n",
              " }\n",
              " incarnation: 15476975826128366639\n",
              " physical_device_desc: \"device: XLA_GPU device\", name: \"/device:GPU:0\"\n",
              " device_type: \"GPU\"\n",
              " memory_limit: 15701463552\n",
              " locality {\n",
              "   bus_id: 1\n",
              "   links {\n",
              "   }\n",
              " }\n",
              " incarnation: 4012202785792971895\n",
              " physical_device_desc: \"device: 0, name: Tesla P100-PCIE-16GB, pci bus id: 0000:00:04.0, compute capability: 6.0\"]"
            ]
          },
          "metadata": {
            "tags": []
          },
          "execution_count": 1
        }
      ]
    },
    {
      "cell_type": "code",
      "metadata": {
        "id": "YSZVcQZVFcLQ",
        "colab_type": "code",
        "colab": {}
      },
      "source": [
        "import numpy as np\n",
        "from google.colab import drive\n",
        "drive.mount('/content/drive/', force_remount=True)\n",
        "%autosave 100"
      ],
      "execution_count": 0,
      "outputs": []
    },
    {
      "cell_type": "code",
      "metadata": {
        "id": "-xuq8hloWivk",
        "colab_type": "code",
        "colab": {}
      },
      "source": [
        "import torch\n",
        "from torch import nn, optim\n",
        "from torch.utils.data import DataLoader\n",
        "import torch.nn.functional as F\n",
        "from torch.utils.data import Dataset\n",
        "\n",
        "import numpy as np\n",
        "import pandas as pd\n",
        "import matplotlib.pyplot as plt"
      ],
      "execution_count": 0,
      "outputs": []
    },
    {
      "cell_type": "code",
      "metadata": {
        "id": "hdnqIFRwIMZ2",
        "colab_type": "code",
        "outputId": "9fa90f7c-88c4-406d-9362-73115560d12f",
        "colab": {
          "base_uri": "https://localhost:8080/",
          "height": 867
        }
      },
      "source": [
        "total = 8900000\n",
        "\n",
        "quizes = np.empty((total, 81), np.float32)\n",
        "solutions = np.empty((total, 81), np.int64)\n",
        "\n",
        "i=0\n",
        "f = open(\"/content/drive/My Drive/Colab Notebooks/__9m_sudoku.csv\")\n",
        "for line in f:\n",
        "    quiz, solution = line.strip().split(\",\")\n",
        "    quizes[i] = [int(i) for i in quiz]\n",
        "    solutions[i] = [int(i) for i in solution]\n",
        "    i += 1\n",
        "    if i % (total // 10) == 0: print(\"loaded\", i//(total // 100), \"%\")\n",
        "    if i >= total: break\n",
        "\n",
        "quizes = quizes.reshape((-1, 9, 9))\n",
        "solutions = solutions.reshape((-1, 9, 9))\n",
        "\n",
        "print(\"quizes\\n\", quizes.shape, quizes[0])\n",
        "print(\"solutions\\n\", solutions.shape, solutions[0])\n",
        "\n",
        "#shuf = np.random.permutation(quizes.shape[0])\n",
        "#print(\"shuf\", shuf.shape, shuf)\n",
        "#quizes = quizes[shuf]\n",
        "#solutions = solutions[shuf]\n",
        "\n",
        "print(\"quizes\\n\", quizes.shape, quizes[0])\n",
        "print(\"solutions\\n\", solutions.shape, solutions[0])"
      ],
      "execution_count": 0,
      "outputs": [
        {
          "output_type": "stream",
          "text": [
            "loaded 10 %\n",
            "loaded 20 %\n",
            "loaded 30 %\n",
            "loaded 40 %\n",
            "loaded 50 %\n",
            "loaded 60 %\n",
            "loaded 70 %\n",
            "loaded 80 %\n",
            "loaded 90 %\n",
            "loaded 100 %\n",
            "quizes\n",
            " (8900000, 9, 9) [[0. 0. 1. 6. 7. 0. 2. 0. 5.]\n",
            " [0. 6. 0. 0. 3. 5. 0. 0. 0.]\n",
            " [5. 8. 2. 0. 1. 0. 3. 0. 7.]\n",
            " [6. 7. 8. 5. 0. 0. 0. 3. 4.]\n",
            " [0. 0. 4. 3. 6. 1. 0. 0. 0.]\n",
            " [0. 1. 0. 0. 4. 7. 0. 5. 0.]\n",
            " [1. 0. 5. 0. 8. 2. 0. 0. 0.]\n",
            " [0. 0. 0. 1. 0. 0. 5. 0. 2.]\n",
            " [0. 2. 7. 4. 0. 0. 0. 0. 0.]]\n",
            "solutions\n",
            " (8900000, 9, 9) [[4 3 1 6 7 8 2 9 5]\n",
            " [7 6 9 2 3 5 4 8 1]\n",
            " [5 8 2 9 1 4 3 6 7]\n",
            " [6 7 8 5 2 9 1 3 4]\n",
            " [9 5 4 3 6 1 7 2 8]\n",
            " [2 1 3 8 4 7 9 5 6]\n",
            " [1 9 5 7 8 2 6 4 3]\n",
            " [8 4 6 1 9 3 5 7 2]\n",
            " [3 2 7 4 5 6 8 1 9]]\n",
            "quizes\n",
            " (8900000, 9, 9) [[0. 0. 1. 6. 7. 0. 2. 0. 5.]\n",
            " [0. 6. 0. 0. 3. 5. 0. 0. 0.]\n",
            " [5. 8. 2. 0. 1. 0. 3. 0. 7.]\n",
            " [6. 7. 8. 5. 0. 0. 0. 3. 4.]\n",
            " [0. 0. 4. 3. 6. 1. 0. 0. 0.]\n",
            " [0. 1. 0. 0. 4. 7. 0. 5. 0.]\n",
            " [1. 0. 5. 0. 8. 2. 0. 0. 0.]\n",
            " [0. 0. 0. 1. 0. 0. 5. 0. 2.]\n",
            " [0. 2. 7. 4. 0. 0. 0. 0. 0.]]\n",
            "solutions\n",
            " (8900000, 9, 9) [[4 3 1 6 7 8 2 9 5]\n",
            " [7 6 9 2 3 5 4 8 1]\n",
            " [5 8 2 9 1 4 3 6 7]\n",
            " [6 7 8 5 2 9 1 3 4]\n",
            " [9 5 4 3 6 1 7 2 8]\n",
            " [2 1 3 8 4 7 9 5 6]\n",
            " [1 9 5 7 8 2 6 4 3]\n",
            " [8 4 6 1 9 3 5 7 2]\n",
            " [3 2 7 4 5 6 8 1 9]]\n"
          ],
          "name": "stdout"
        }
      ]
    },
    {
      "cell_type": "code",
      "metadata": {
        "id": "MuEN8Jx8LKad",
        "colab_type": "code",
        "outputId": "55f58274-ee05-4eaa-c48d-b5fbbeaabc7a",
        "colab": {
          "base_uri": "https://localhost:8080/",
          "height": 227
        }
      },
      "source": [
        "num_zeros = np.empty((total), np.float32)\n",
        "zeros_ = np.zeros_like(quizes[0])\n",
        "for i in range(num_zeros.shape[0]):\n",
        "    num_zeros[i] = np.sum(np.equal(zeros_, quizes[i]))\n",
        "\n",
        "plt.figure(figsize=(20, 3))\n",
        "n, bins, patches = plt.hist(num_zeros, len(np.unique(num_zeros)), width=0.8, density=True)\n",
        "plt.xticks(ticks=bins, labels=list(map(int, np.unique(num_zeros))), horizontalalignment='center')\n",
        "plt.title(\"Distribution of spaces in puzzles\")\n",
        "plt.show()"
      ],
      "execution_count": 0,
      "outputs": [
        {
          "output_type": "display_data",
          "data": {
            "image/png": "[encoded data removed]",
            "text/plain": [
              "<Figure size 1440x216 with 1 Axes>"
            ]
          },
          "metadata": {
            "tags": [],
            "needs_background": "light"
          }
        }
      ]
    },
    {
      "cell_type": "code",
      "metadata": {
        "id": "zjRT_NYiDZOI",
        "colab_type": "code",
        "outputId": "d655b224-7ad3-4220-a330-4befcc73ae50",
        "colab": {
          "base_uri": "https://localhost:8080/",
          "height": 437
        }
      },
      "source": [
        "plt.figure(figsize=(20, 3))\n",
        "n, bins, patches = plt.hist(num_zeros[total*1//100:], len(np.unique(num_zeros[total*1//100:])), width=0.8, density=True)\n",
        "plt.xticks(ticks=bins, labels=list(map(int, np.unique(num_zeros[total*1//100:]))), horizontalalignment='center')\n",
        "plt.title(\"Distribution of spaces in puzzles train\")\n",
        "plt.show()\n",
        "\n",
        "plt.figure(figsize=(20, 3))\n",
        "n, bins, patches = plt.hist(num_zeros[:total*1//100], len(np.unique(num_zeros[:total*1//100])), width=0.8, density=True)\n",
        "plt.xticks(ticks=bins, labels=list(map(int, np.unique(num_zeros[:total*1//100]))), horizontalalignment='center')\n",
        "plt.title(\"Distribution of spaces in puzzles dev\")\n",
        "plt.show()"
      ],
      "execution_count": 0,
      "outputs": [
        {
          "output_type": "display_data",
          "data": {
            "image/png": "[encoded data removed]",
            "text/plain": [
              "<Figure size 1440x216 with 1 Axes>"
            ]
          },
          "metadata": {
            "tags": [],
            "needs_background": "light"
          }
        },
        {
          "output_type": "display_data",
          "data": {
            "image/png": "[encoded data removed]",
            "text/plain": [
              "<Figure size 1440x216 with 1 Axes>"
            ]
          },
          "metadata": {
            "tags": [],
            "needs_background": "light"
          }
        }
      ]
    },
    {
      "cell_type": "code",
      "metadata": {
        "id": "lhAvcUFAKDF7",
        "colab_type": "code",
        "colab": {}
      },
      "source": [
        "class ConvNet(nn.Module):\n",
        "  def __init__(self, c_in, c_out, filt=3, stride=1, padding=1):\n",
        "    super(ConvNet, self).__init__()\n",
        "\n",
        "    #self.dropout = nn.Dropout2d(p=0.05)\n",
        "    self.conv = nn.Conv2d(c_in, c_out, (filt, filt), stride=stride, padding=padding)\n",
        "    self.bn = nn.BatchNorm2d(c_out)\n",
        "  \n",
        "  def forward(self, x):\n",
        "    n, c, h, w = x.shape\n",
        "    #z = F.relu(self.bn(self.conv(self.dropout(x))))\n",
        "    z = F.relu(self.bn(self.conv(x)))\n",
        "    return z\n",
        "\n",
        "class ResNet(nn.Module):\n",
        "  def __init__(self, c_in, c_out, filt=3, stride=1, padding=1):\n",
        "    super(ResNet, self).__init__()\n",
        "\n",
        "    self.conv1 = nn.Conv2d(c_in, c_out, (filt, filt), stride=stride, padding=padding)\n",
        "    self.bn1 = nn.BatchNorm2d(c_out)\n",
        "    self.conv2 = nn.Conv2d(c_in, c_out, (filt, filt), stride=stride, padding=padding)\n",
        "    self.bn2 = nn.BatchNorm2d(c_out)\n",
        "  \n",
        "  def forward(self, x):\n",
        "    n, c, h, w = x.shape\n",
        "    z1 = F.relu(self.bn1(self.conv1(x)))\n",
        "    z2 = F.relu(self.bn2(self.conv2(z1)) + x)\n",
        "    return z2\n",
        "\n",
        "\n",
        "class Res2Net(nn.Module):\n",
        "  def __init__(self, c_in, c_out, filt=3, stride=1, padding=1):\n",
        "    super(Res2Net, self).__init__()\n",
        "\n",
        "    self.conv1 = nn.Conv2d(c_in, c_out, (filt, filt), stride=stride, padding=padding)\n",
        "    self.bn1 = nn.BatchNorm2d(c_out)\n",
        "    self.conv2 = nn.Conv2d(c_in, c_out, (5, 5), stride=stride, padding=2)\n",
        "    self.bn2 = nn.BatchNorm2d(c_out)\n",
        "  \n",
        "  def forward(self, x):\n",
        "    n, c, h, w = x.shape\n",
        "    z1 = F.relu(self.bn1(self.conv1(x)))\n",
        "    z2 = F.relu(self.bn2(self.conv2(z1)) + x)\n",
        "    return z2\n",
        "\n",
        "# n1 - number of conv layers with kernel size (3, 3) - try to learn local\n",
        "# n2 - number of conv layers with kernel size (9, 9) - try to learn global\n",
        "# c_mid - number of kernels in conv layers\n",
        "class SudokuNet(nn.Module):\n",
        "  # !!! c_out should be 10 !!!\n",
        "  def __init__(self, n, n2, c_mid, c_in=1, c_out=10):\n",
        "    super(SudokuNet, self).__init__()\n",
        "    self.conv1 = ConvNet(c_in, c_mid)\n",
        "\n",
        "    self.seq = nn.Sequential()\n",
        "    for i in range(n):\n",
        "      self.seq.add_module(str(i), Res2Net(c_mid, c_mid, 3, 1, 1))\n",
        "\n",
        "    self.seq2 = nn.Sequential()\n",
        "    for i in range(n2):\n",
        "      self.seq2.add_module(str(i), ResNet(c_mid, c_mid, 9, 1, 4))\n",
        "\n",
        "\n",
        "    self.convLast = nn.Conv2d(c_mid, c_out, (3,3), stride=1, padding=1)\n",
        "    self.logsoftmax = nn.LogSoftmax(dim=1)\n",
        "\n",
        "    \n",
        "  def forward(self, x):\n",
        "    z = self.conv1(x)\n",
        "    z = self.seq(z)\n",
        "    z = self.seq2(z)\n",
        "    z = self.logsoftmax(self.convLast(z))\n",
        "    return z\n"
      ],
      "execution_count": 0,
      "outputs": []
    },
    {
      "cell_type": "code",
      "metadata": {
        "id": "P-TAZUswi7YL",
        "colab_type": "code",
        "colab": {}
      },
      "source": [
        "def is_valid(y):\n",
        "  uniques = {1,2,3,4,5,6,7,8,9}\n",
        "  y = y.cpu().detach().numpy()\n",
        "  \n",
        "  for i in range(9):\n",
        "    if set(y[i].ravel()) != uniques:\n",
        "      return False\n",
        "    if set(y[:, i].ravel()) != uniques:\n",
        "      return False\n",
        "    if set(y[(i//3) * 3 : (i//3 + 1) * 3, (i%3) * 3 : (i%3 + 1) * 3].ravel()) != uniques:\n",
        "      return False\n",
        "  return True\n",
        "\n",
        "def get_solutions(y_, y):\n",
        "  ans = y.clone().detach()\n",
        "  for i in range(len(y)):\n",
        "    if is_valid(y_[i]):\n",
        "      ans[i] = y_[i]\n",
        "      print('Valid!')\n",
        "\n",
        "  return ans\n",
        "\n",
        "\n",
        "# train in range [start, end) with batch_size\n",
        "# change start/end to reduce training time\n",
        "def train_epoch(model, opt, loss, batch_size, start=total*1//100, end=total):\n",
        "    model.train(True)\n",
        "    for i in range(start, end, batch_size):\n",
        "        x = quizes[i:i+batch_size]\n",
        "        y = solutions[i:i+batch_size]\n",
        "        x = x[:, np.newaxis]\n",
        "        \n",
        "        X, y = torch.from_numpy(x), torch.from_numpy(y)\n",
        "\n",
        "        if torch.cuda.is_available():\n",
        "            X = X.cuda()\n",
        "            y = y.cuda()\n",
        "\n",
        "        opt.zero_grad()\n",
        "        y_ = model(X)\n",
        "        #y_ok = get_solutions(y_, y)\n",
        "        #loss_value = loss(y_, y_ok)\n",
        "        loss_value = loss(y_, y)\n",
        "        loss_value.backward()\n",
        "        opt.step()"
      ],
      "execution_count": 0,
      "outputs": []
    },
    {
      "cell_type": "code",
      "metadata": {
        "id": "xFCWOXhM5Yej",
        "colab_type": "code",
        "colab": {}
      },
      "source": [
        "# get accuracy in range [start, end) with batch_size\n",
        "# change start/end to reduce running time\n",
        "# choose wisely, so that |train| : |test| = 9 : 1 (or 99 : 1)\n",
        "def get_accuracy(model, batch_size, start=0, end=total*1//100):\n",
        "    model.train(mode=False)\n",
        "\n",
        "    total_samples = 0\n",
        "    total_correct = 0\n",
        "    known_samples = 0\n",
        "    known_correct = 0\n",
        "    \n",
        "    zeros_count = 0\n",
        "\n",
        "    for i in range(start, end, batch_size):\n",
        "        x = quizes[i:i+batch_size]\n",
        "        y = solutions[i:i+batch_size]\n",
        "        x = x[:, np.newaxis]\n",
        "\n",
        "        X, y = torch.from_numpy(x), torch.from_numpy(y)\n",
        "        zeros_ = torch.zeros_like(y)\n",
        "\n",
        "        if torch.cuda.is_available():\n",
        "            X = X.cuda()\n",
        "            y = y.cuda()\n",
        "            x_ = torch.from_numpy(quizes[i:i+batch_size]).cuda()\n",
        "            zeros_ = zeros_.cuda()\n",
        "\n",
        "        y_ = model(X)\n",
        "        _, y_ = torch.max(y_, axis=1)\n",
        "        \n",
        "        total_samples += 81 * batch_size\n",
        "        #y_ok = get_solutions(y_, y)\n",
        "        #sum_ = torch.sum(torch.eq(y_, y_ok).type(torch.FloatTensor))\n",
        "        sum_ = torch.sum(torch.eq(y_, y).type(torch.FloatTensor))\n",
        "        total_correct += sum_.item()\n",
        "\n",
        "        known_samples += 81 * batch_size - np.sum(num_zeros[i:i+batch_size])\n",
        "        known_sum_ = torch.sum(torch.eq(y_, x_).type(torch.FloatTensor))\n",
        "        known_correct += known_sum_.item()\n",
        "\n",
        "        zeros_count += torch.sum(torch.eq(y_, zeros_).type(torch.FloatTensor)).item()\n",
        "\n",
        "    return total_correct / total_samples, known_correct / known_samples, (total_correct - known_correct) / (total_samples - known_samples), zeros_count"
      ],
      "execution_count": 0,
      "outputs": []
    },
    {
      "cell_type": "code",
      "metadata": {
        "id": "jNf0cxDbjvwT",
        "colab_type": "code",
        "colab": {}
      },
      "source": [
        "def train_net(epochs, batch_size, test_batch_size):\n",
        "    total_accuracies = []\n",
        "    known_accuracies = []\n",
        "    unknown_accuracies = []\n",
        "    zeros_count = []\n",
        "    for epoch in range(epochs):\n",
        "        \n",
        "        train_epoch(model, opt, loss, batch_size=batch_size)\n",
        "        acc, kn, unkn, zc = get_accuracy(model, batch_size=test_batch_size)\n",
        "        total_accuracies.append(acc)\n",
        "        known_accuracies.append(kn)\n",
        "        unknown_accuracies.append(unkn)\n",
        "        zeros_count.append(zc)\n",
        "        print(f'epoch: [{epoch+1}/{epochs}], accuracy: {acc}, known_accuracy: {kn}, unknown_accuracy: {unkn}, zeros_count: {zc}')\n",
        "\n",
        "        torch.save({\n",
        "            'model_state_dict': model.state_dict(),\n",
        "            'optimizer_state_dict': opt.state_dict(),\n",
        "            'total_accuracies': total_accuracies,\n",
        "            'known_accuracies': known_accuracies,\n",
        "            'unknown_accuracies': unknown_accuracies,\n",
        "            'zeros_count': zeros_count,\n",
        "            'epochs': epochs},\n",
        "        \"/content/drive/My Drive/Colab Notebooks/__9m_res2net_model_\" + str(n) + \"_\" + str(n2) + \"_\" + str(c_mid) + \"_\" + str(total) + \"_e\" + str(epoch) + \".tar\")\n",
        "\n",
        "    return total_accuracies, known_accuracies, unknown_accuracies, zeros_count"
      ],
      "execution_count": 0,
      "outputs": []
    },
    {
      "cell_type": "code",
      "metadata": {
        "id": "PqBGX006_gGO",
        "colab_type": "code",
        "outputId": "706feaba-e667-4dd4-ec23-5493bcab8456",
        "colab": {
          "base_uri": "https://localhost:8080/",
          "height": 34
        }
      },
      "source": [
        "n = 10\n",
        "n2 = 0\n",
        "c_mid=100\n",
        "model = SudokuNet(n=n, n2=n2, c_mid=c_mid)\n",
        "if torch.cuda.is_available():\n",
        "    print(\"cuda\")\n",
        "    model.cuda()\n",
        "else:\n",
        "    print(\"cpu\")\n",
        "# Adam seems to work better\n",
        "#opt = optim.SGD(model.parameters(), lr=0.1, weight_decay=0.0001, momentum=0.9)\n",
        "opt = optim.Adam(model.parameters())\n",
        "loss = nn.NLLLoss()"
      ],
      "execution_count": 0,
      "outputs": [
        {
          "output_type": "stream",
          "text": [
            "cuda\n"
          ],
          "name": "stdout"
        }
      ]
    },
    {
      "cell_type": "code",
      "metadata": {
        "id": "4uY_YLLgj8gz",
        "colab_type": "code",
        "outputId": "012da12d-6a38-4f0e-c4ba-95321eeddc81",
        "colab": {
          "base_uri": "https://localhost:8080/",
          "height": 221
        }
      },
      "source": [
        "%%time\n",
        "epochs=10\n",
        "total_accuracies, known_accuracies, unknown_accuracies, zeros_count = train_net(epochs=epochs, batch_size=5000, test_batch_size=500)"
      ],
      "execution_count": 0,
      "outputs": [
        {
          "output_type": "stream",
          "text": [
            "epoch: [1/10], accuracy: 0.8208893050353725, known_accuracy: 0.999996451921586, unknown_accuracy: 0.7059156060040455, zeros_count: 0.0\n",
            "epoch: [2/10], accuracy: 0.8545802469135803, known_accuracy: 0.9999996451921586, unknown_accuracy: 0.7612316205652429, zeros_count: 0.0\n",
            "epoch: [3/10], accuracy: 0.8700571507837426, known_accuracy: 1.0, unknown_accuracy: 0.7866433378968987, zeros_count: 0.0\n",
            "epoch: [4/10], accuracy: 0.8779407684838396, known_accuracy: 0.9999992903843172, unknown_accuracy: 0.7995881175418333, zeros_count: 0.0\n",
            "epoch: [5/10], accuracy: 0.8861513386045221, known_accuracy: 0.9999992903843172, unknown_accuracy: 0.8130692736460594, zeros_count: 0.0\n",
            "epoch: [6/10], accuracy: 0.8924383409626855, known_accuracy: 1.0, unknown_accuracy: 0.8233916165384336, zeros_count: 0.0\n",
            "epoch: [7/10], accuracy: 0.8953852129282841, known_accuracy: 0.9999943230745377, unknown_accuracy: 0.8282338091178532, zeros_count: 0.0\n",
            "epoch: [8/10], accuracy: 0.8963993619087252, known_accuracy: 0.9999932586510135, unknown_accuracy: 0.8298996509111681, zeros_count: 0.0\n",
            "epoch: [9/10], accuracy: 0.901578859758635, known_accuracy: 0.9999978711529516, unknown_accuracy: 0.8384010469704068, zeros_count: 0.0\n",
            "epoch: [10/10], accuracy: 0.9017003745318352, known_accuracy: 0.9999858076863442, unknown_accuracy: 0.8386083092115767, zeros_count: 0.0\n",
            "CPU times: user 3h 52min 39s, sys: 2h 57min 22s, total: 6h 50min 2s\n",
            "Wall time: 6h 50min 23s\n"
          ],
          "name": "stdout"
        }
      ]
    },
    {
      "cell_type": "code",
      "metadata": {
        "id": "lrlNQAVHFXlV",
        "colab_type": "code",
        "outputId": "a7c9a580-4a9a-40ac-a967-b6c22528a580",
        "colab": {
          "base_uri": "https://localhost:8080/",
          "height": 398
        }
      },
      "source": [
        "dat = pd.DataFrame({'a':np.array(total_accuracies), 'kn':np.array(known_accuracies), 'unkn':np.array(unknown_accuracies), 'zc':np.array(zeros_count)})\n",
        "dat['epoch'] = np.arange(epochs)+1\n",
        "\n",
        "fig, ax = plt.subplots(1, 1, figsize=(10,3))\n",
        "ax.plot(dat['epoch'], dat['a'], color='blue', label='Total accuracy')\n",
        "ax.plot(dat['epoch'], dat['kn'], color='green', label='Known accuracy')\n",
        "ax.plot(dat['epoch'], dat['unkn'], color='red', label='Unknown accuracy')\n",
        "ax.legend()\n",
        "\n",
        "plt.xticks(dat['epoch'])\n",
        "#plt.savefig(\"/content/drive/My Drive/Colab Notebooks/__9m_res2net_acc_\" + str(n) + \"_\" + str(n2) + \"_\" + str(c_mid) + \"_\" + str(total) + \".png\")"
      ],
      "execution_count": 0,
      "outputs": [
        {
          "output_type": "execute_result",
          "data": {
            "text/plain": [
              "([<matplotlib.axis.XTick at 0x7f06cb768e48>,\n",
              "  <matplotlib.axis.XTick at 0x7f06cb768e10>,\n",
              "  <matplotlib.axis.XTick at 0x7f06cb768940>,\n",
              "  <matplotlib.axis.XTick at 0x7f06cb5e6dd8>,\n",
              "  <matplotlib.axis.XTick at 0x7f06cb5eb2b0>,\n",
              "  <matplotlib.axis.XTick at 0x7f06cb5eb748>,\n",
              "  <matplotlib.axis.XTick at 0x7f06cb5ebbe0>,\n",
              "  <matplotlib.axis.XTick at 0x7f06caac9128>,\n",
              "  <matplotlib.axis.XTick at 0x7f06caac9550>,\n",
              "  <matplotlib.axis.XTick at 0x7f06cb5eb6a0>],\n",
              " <a list of 10 Text major ticklabel objects>)"
            ]
          },
          "metadata": {
            "tags": []
          },
          "execution_count": 31
        },
        {
          "output_type": "display_data",
          "data": {
            "image/png": "[encoded data removed]",
            "text/plain": [
              "<Figure size 720x216 with 1 Axes>"
            ]
          },
          "metadata": {
            "tags": [],
            "needs_background": "light"
          }
        }
      ]
    },
    {
      "cell_type": "code",
      "metadata": {
        "id": "gWjZk65ZscfM",
        "colab_type": "code",
        "colab": {}
      },
      "source": [
        "\n",
        "torch.save({\n",
        "            'model_state_dict': model.state_dict(),\n",
        "            'optimizer_state_dict': opt.state_dict(),\n",
        "            'total_accuracies': total_accuracies,\n",
        "            'known_accuracies': known_accuracies,\n",
        "            'unknown_accuracies': unknown_accuracies,\n",
        "            'zeros_count': zeros_count,\n",
        "            'epochs': epochs\n",
        "            }, \"/content/drive/My Drive/Colab Notebooks/__9m_res2net_model_\" + str(n) + \"_\" + str(n2) + \"_\" + str(c_mid) + \"_\" + str(total) + \".tar\")\n",
        "\n"
      ],
      "execution_count": 0,
      "outputs": []
    },
    {
      "cell_type": "code",
      "metadata": {
        "id": "ZSASQSGZuwpl",
        "colab_type": "code",
        "colab": {}
      },
      "source": [
        ""
      ],
      "execution_count": 0,
      "outputs": []
    }
  ]
}