{
  "nbformat": 4,
  "nbformat_minor": 0,
  "metadata": {
    "colab": {
      "name": "Sudoku_train.ipynb",
      "provenance": [],
      "collapsed_sections": []
    },
    "kernelspec": {
      "name": "python3",
      "display_name": "Python 3"
    },
    "accelerator": "GPU"
  },
  "cells": [
    {
      "cell_type": "code",
      "metadata": {
        "id": "YSZVcQZVFcLQ",
        "colab_type": "code",
        "outputId": "b51ec713-da6e-4879-93f0-30eb1b32638b",
        "colab": {
          "base_uri": "https://localhost:8080/",
          "height": 51
        }
      },
      "source": [
        "import numpy as np\n",
        "from google.colab import drive\n",
        "drive.mount('/content/drive/', force_remount=True)\n",
        "%autosave 100"
      ],
      "execution_count": 1,
      "outputs": [
        {
          "output_type": "stream",
          "text": [
            "Mounted at /content/drive/\n"
          ],
          "name": "stdout"
        },
        {
          "output_type": "display_data",
          "data": {
            "application/javascript": [
              "IPython.notebook.set_autosave_interval(100000)"
            ]
          },
          "metadata": {
            "tags": []
          }
        },
        {
          "output_type": "stream",
          "text": [
            "Autosaving every 100 seconds\n"
          ],
          "name": "stdout"
        }
      ]
    },
    {
      "cell_type": "code",
      "metadata": {
        "id": "-xuq8hloWivk",
        "colab_type": "code",
        "colab": {}
      },
      "source": [
        "import torch\n",
        "from torch import nn, optim\n",
        "from torch.utils.data import DataLoader\n",
        "import torch.nn.functional as F\n",
        "from torch.utils.data import Dataset\n",
        "\n",
        "import numpy as np\n",
        "import pandas as pd\n",
        "import matplotlib.pyplot as plt\n",
        "\n",
        "from IPython.display import Image"
      ],
      "execution_count": 0,
      "outputs": []
    },
    {
      "cell_type": "code",
      "metadata": {
        "id": "hdnqIFRwIMZ2",
        "colab_type": "code",
        "outputId": "0c0e3019-0e14-47b7-a999-b382d91367fb",
        "colab": {
          "base_uri": "https://localhost:8080/",
          "height": 1000
        }
      },
      "source": [
        "quizes = np.empty((1000000, 81), np.float32)\n",
        "solutions = np.empty((1000000, 81), np.int64)\n",
        "\n",
        "i=0\n",
        "f = open(\"/content/drive/My Drive/Colab Notebooks/sudoku.csv\")\n",
        "for line in f:\n",
        "    quiz, solution = line.strip().split(\",\")\n",
        "    quizes[i] = [int(i) for i in quiz]\n",
        "    solutions[i] = [int(i) for i in solution]\n",
        "    i += 1\n",
        "    if i % 10000 == 0:\n",
        "        print(\"loaded\", i//10000, \"%\")\n",
        "\n",
        "quizes = quizes.reshape((-1, 9, 9))\n",
        "solutions = solutions.reshape((-1, 9, 9))\n",
        "\n",
        "print(\"quizes\\n\", quizes[0])\n",
        "print(\"solutions\\n\", solutions[0])"
      ],
      "execution_count": 3,
      "outputs": [
        {
          "output_type": "stream",
          "text": [
            "loaded 1 %\n",
            "loaded 2 %\n",
            "loaded 3 %\n",
            "loaded 4 %\n",
            "loaded 5 %\n",
            "loaded 6 %\n",
            "loaded 7 %\n",
            "loaded 8 %\n",
            "loaded 9 %\n",
            "loaded 10 %\n",
            "loaded 11 %\n",
            "loaded 12 %\n",
            "loaded 13 %\n",
            "loaded 14 %\n",
            "loaded 15 %\n",
            "loaded 16 %\n",
            "loaded 17 %\n",
            "loaded 18 %\n",
            "loaded 19 %\n",
            "loaded 20 %\n",
            "loaded 21 %\n",
            "loaded 22 %\n",
            "loaded 23 %\n",
            "loaded 24 %\n",
            "loaded 25 %\n",
            "loaded 26 %\n",
            "loaded 27 %\n",
            "loaded 28 %\n",
            "loaded 29 %\n",
            "loaded 30 %\n",
            "loaded 31 %\n",
            "loaded 32 %\n",
            "loaded 33 %\n",
            "loaded 34 %\n",
            "loaded 35 %\n",
            "loaded 36 %\n",
            "loaded 37 %\n",
            "loaded 38 %\n",
            "loaded 39 %\n",
            "loaded 40 %\n",
            "loaded 41 %\n",
            "loaded 42 %\n",
            "loaded 43 %\n",
            "loaded 44 %\n",
            "loaded 45 %\n",
            "loaded 46 %\n",
            "loaded 47 %\n",
            "loaded 48 %\n",
            "loaded 49 %\n",
            "loaded 50 %\n",
            "loaded 51 %\n",
            "loaded 52 %\n",
            "loaded 53 %\n",
            "loaded 54 %\n",
            "loaded 55 %\n",
            "loaded 56 %\n",
            "loaded 57 %\n",
            "loaded 58 %\n",
            "loaded 59 %\n",
            "loaded 60 %\n",
            "loaded 61 %\n",
            "loaded 62 %\n",
            "loaded 63 %\n",
            "loaded 64 %\n",
            "loaded 65 %\n",
            "loaded 66 %\n",
            "loaded 67 %\n",
            "loaded 68 %\n",
            "loaded 69 %\n",
            "loaded 70 %\n",
            "loaded 71 %\n",
            "loaded 72 %\n",
            "loaded 73 %\n",
            "loaded 74 %\n",
            "loaded 75 %\n",
            "loaded 76 %\n",
            "loaded 77 %\n",
            "loaded 78 %\n",
            "loaded 79 %\n",
            "loaded 80 %\n",
            "loaded 81 %\n",
            "loaded 82 %\n",
            "loaded 83 %\n",
            "loaded 84 %\n",
            "loaded 85 %\n",
            "loaded 86 %\n",
            "loaded 87 %\n",
            "loaded 88 %\n",
            "loaded 89 %\n",
            "loaded 90 %\n",
            "loaded 91 %\n",
            "loaded 92 %\n",
            "loaded 93 %\n",
            "loaded 94 %\n",
            "loaded 95 %\n",
            "loaded 96 %\n",
            "loaded 97 %\n",
            "loaded 98 %\n",
            "loaded 99 %\n",
            "loaded 100 %\n",
            "quizes\n",
            " [[0. 0. 4. 3. 0. 0. 2. 0. 9.]\n",
            " [0. 0. 5. 0. 0. 9. 0. 0. 1.]\n",
            " [0. 7. 0. 0. 6. 0. 0. 4. 3.]\n",
            " [0. 0. 6. 0. 0. 2. 0. 8. 7.]\n",
            " [1. 9. 0. 0. 0. 7. 4. 0. 0.]\n",
            " [0. 5. 0. 0. 8. 3. 0. 0. 0.]\n",
            " [6. 0. 0. 0. 0. 0. 1. 0. 5.]\n",
            " [0. 0. 3. 5. 0. 8. 6. 9. 0.]\n",
            " [0. 4. 2. 9. 1. 0. 3. 0. 0.]]\n",
            "solutions\n",
            " [[8 6 4 3 7 1 2 5 9]\n",
            " [3 2 5 8 4 9 7 6 1]\n",
            " [9 7 1 2 6 5 8 4 3]\n",
            " [4 3 6 1 9 2 5 8 7]\n",
            " [1 9 8 6 5 7 4 3 2]\n",
            " [2 5 7 4 8 3 9 1 6]\n",
            " [6 8 9 7 3 4 1 2 5]\n",
            " [7 1 3 5 2 8 6 9 4]\n",
            " [5 4 2 9 1 6 3 7 8]]\n"
          ],
          "name": "stdout"
        }
      ]
    },
    {
      "cell_type": "code",
      "metadata": {
        "id": "lhAvcUFAKDF7",
        "colab_type": "code",
        "colab": {}
      },
      "source": [
        "class ConvNet(nn.Module):\n",
        "  def __init__(self, c_in, c_out, filt=3, stride=1, padding=1):\n",
        "    super(ConvNet, self).__init__()\n",
        "\n",
        "    self.conv = nn.Conv2d(c_in, c_out, (filt, filt), stride=stride, padding=padding)\n",
        "    self.bn = nn.BatchNorm2d(c_out)\n",
        "  \n",
        "  def forward(self, x):\n",
        "    n, c, h, w = x.shape\n",
        "    z = F.relu(self.bn(self.conv(x)))\n",
        "    return z\n",
        "\n",
        "# n1 - number of conv layers with kernel size (3, 3) - try to learn local\n",
        "# n2 - number of conv layers with kernel size (9, 9) - try to learn global\n",
        "# c_mid - number of kernels in conv layers\n",
        "class SudokuNet(nn.Module):\n",
        "  # !!! c_out should be 10 !!!\n",
        "  def __init__(self, n, n2, c_mid, c_in=1, c_out=10):\n",
        "    super(SudokuNet, self).__init__()\n",
        "    self.conv1 = ConvNet(c_in, c_mid)\n",
        "\n",
        "    self.seq = nn.Sequential()\n",
        "    for i in range(n):\n",
        "      self.seq.add_module(str(i), ConvNet(c_mid, c_mid, 3, 1, 1))\n",
        "\n",
        "    self.seq2 = nn.Sequential()\n",
        "    for i in range(n2):\n",
        "      self.seq2.add_module(str(i), ConvNet(c_mid, c_mid, 9, 1, 4))\n",
        "\n",
        "\n",
        "    self.convLast = nn.Conv2d(c_mid, c_out, (3,3), stride=1, padding=1)\n",
        "    self.logsoftmax = nn.LogSoftmax(dim=1)\n",
        "\n",
        "    \n",
        "  def forward(self, x):\n",
        "    z = self.conv1(x)\n",
        "    z = self.seq(z)\n",
        "    z = self.seq2(z)\n",
        "    z = self.logsoftmax(self.convLast(z))\n",
        "    return z\n"
      ],
      "execution_count": 0,
      "outputs": []
    },
    {
      "cell_type": "code",
      "metadata": {
        "id": "P-TAZUswi7YL",
        "colab_type": "code",
        "colab": {}
      },
      "source": [
        "# train in range [start, end) with batch_size\n",
        "# change start/end to reduce training time\n",
        "def train_epoch(model, opt, loss, batch_size, start=0, end=900000):\n",
        "    model.train(True)\n",
        "    for i in range(start, end, batch_size):\n",
        "        x = quizes[i:i+batch_size]\n",
        "        y = solutions[i:i+batch_size]\n",
        "        x = x[:, np.newaxis]\n",
        "        \n",
        "        X, y = torch.from_numpy(x), torch.from_numpy(y)\n",
        "\n",
        "        if torch.cuda.is_available():\n",
        "            X = X.cuda()\n",
        "            y = y.cuda()\n",
        "\n",
        "        opt.zero_grad()\n",
        "        y_ = model(X)\n",
        "        loss_value = loss(y_, y)\n",
        "        loss_value.backward()\n",
        "        opt.step()"
      ],
      "execution_count": 0,
      "outputs": []
    },
    {
      "cell_type": "code",
      "metadata": {
        "id": "xFCWOXhM5Yej",
        "colab_type": "code",
        "colab": {}
      },
      "source": [
        "# get accuracy in range [start, end) with batch_size\n",
        "# change start/end to reduce running time\n",
        "# choose wisely, so that |train| : |test| = 9 : 1 (or 99 : 1)\n",
        "def get_accuracy(model, batch_size, start=900000, end=1000000):\n",
        "    model.train(mode=False)\n",
        "\n",
        "    total_samples = 0\n",
        "    total_correct = 0\n",
        "\n",
        "    for i in range(start, end, batch_size):\n",
        "        x = quizes[i:i+batch_size]\n",
        "        y = solutions[i:i+batch_size]\n",
        "        x = x[:, np.newaxis]\n",
        "\n",
        "        X, y = torch.from_numpy(x), torch.from_numpy(y)\n",
        "\n",
        "        if torch.cuda.is_available():\n",
        "            X = X.cuda()\n",
        "            y = y.cuda()\n",
        "\n",
        "        y_ = model(X)\n",
        "        _, y_ = torch.max(y_, axis=1)\n",
        "        \n",
        "        total_samples += 81 * batch_size\n",
        "        sum_ = torch.sum(torch.eq(y_, y).type(torch.FloatTensor))\n",
        "        total_correct += sum_.item()\n",
        "\n",
        "    return total_correct / total_samples"
      ],
      "execution_count": 0,
      "outputs": []
    },
    {
      "cell_type": "code",
      "metadata": {
        "id": "jNf0cxDbjvwT",
        "colab_type": "code",
        "colab": {}
      },
      "source": [
        "def train_net(epochs, batch_size):\n",
        "    accuracies = []\n",
        "    for epoch in range(epochs):\n",
        "        \n",
        "        train_epoch(model, opt, loss, batch_size=batch_size)\n",
        "        acc = get_accuracy(model, batch_size=batch_size)\n",
        "        accuracies.append(acc)\n",
        "        print(f'epoch: [{epoch+1}/{epochs}], accuracy: {acc}')\n",
        "    return accuracies"
      ],
      "execution_count": 0,
      "outputs": []
    },
    {
      "cell_type": "code",
      "metadata": {
        "id": "PqBGX006_gGO",
        "colab_type": "code",
        "outputId": "5f8a18a6-a2c4-4e98-ac54-9ef39536fa1c",
        "colab": {
          "base_uri": "https://localhost:8080/",
          "height": 34
        }
      },
      "source": [
        "n = 10\n",
        "n2 = 0\n",
        "c_mid=100\n",
        "model = SudokuNet(n=n, n2=n2, c_mid=c_mid)\n",
        "if torch.cuda.is_available():\n",
        "    print(\"cuda\")\n",
        "    model.cuda()\n",
        "else:\n",
        "    print(\"cpu\")\n",
        "# Adam seems to work better\n",
        "#opt = optim.SGD(model.parameters(), lr=0.1, weight_decay=0.0001, momentum=0.9)\n",
        "opt = optim.Adam(model.parameters())\n",
        "loss = nn.NLLLoss()"
      ],
      "execution_count": 8,
      "outputs": [
        {
          "output_type": "stream",
          "text": [
            "cuda\n"
          ],
          "name": "stdout"
        }
      ]
    },
    {
      "cell_type": "code",
      "metadata": {
        "id": "4uY_YLLgj8gz",
        "colab_type": "code",
        "outputId": "0642ee0c-ffa5-4776-d36f-afa3dcb22c76",
        "colab": {
          "base_uri": "https://localhost:8080/",
          "height": 867
        }
      },
      "source": [
        "epochs=50\n",
        "accuracies = train_net(epochs=epochs, batch_size=1000)"
      ],
      "execution_count": 9,
      "outputs": [
        {
          "output_type": "stream",
          "text": [
            "epoch: [1/50], accuracy: 0.7786133333333334\n",
            "epoch: [2/50], accuracy: 0.8477159259259259\n",
            "epoch: [3/50], accuracy: 0.8779256790123456\n",
            "epoch: [4/50], accuracy: 0.8975051851851852\n",
            "epoch: [5/50], accuracy: 0.9116887654320988\n",
            "epoch: [6/50], accuracy: 0.9233597530864197\n",
            "epoch: [7/50], accuracy: 0.9320233333333333\n",
            "epoch: [8/50], accuracy: 0.9378338271604938\n",
            "epoch: [9/50], accuracy: 0.94258\n",
            "epoch: [10/50], accuracy: 0.9465338271604938\n",
            "epoch: [11/50], accuracy: 0.9504546913580247\n",
            "epoch: [12/50], accuracy: 0.9535134567901234\n",
            "epoch: [13/50], accuracy: 0.9562204938271605\n",
            "epoch: [14/50], accuracy: 0.9580276543209877\n",
            "epoch: [15/50], accuracy: 0.9596375308641976\n",
            "epoch: [16/50], accuracy: 0.9614148148148148\n",
            "epoch: [17/50], accuracy: 0.9624775308641975\n",
            "epoch: [18/50], accuracy: 0.9635361728395062\n",
            "epoch: [19/50], accuracy: 0.964527037037037\n",
            "epoch: [20/50], accuracy: 0.9653979012345679\n",
            "epoch: [21/50], accuracy: 0.9660538271604938\n",
            "epoch: [22/50], accuracy: 0.966719012345679\n",
            "epoch: [23/50], accuracy: 0.9674471604938272\n",
            "epoch: [24/50], accuracy: 0.9678992592592592\n",
            "epoch: [25/50], accuracy: 0.9685420987654321\n",
            "epoch: [26/50], accuracy: 0.9689434567901235\n",
            "epoch: [27/50], accuracy: 0.9695523456790124\n",
            "epoch: [28/50], accuracy: 0.9699135802469135\n",
            "epoch: [29/50], accuracy: 0.9702069135802469\n",
            "epoch: [30/50], accuracy: 0.9705883950617284\n",
            "epoch: [31/50], accuracy: 0.971017037037037\n",
            "epoch: [32/50], accuracy: 0.971303086419753\n",
            "epoch: [33/50], accuracy: 0.9714192592592592\n",
            "epoch: [34/50], accuracy: 0.9717462962962963\n",
            "epoch: [35/50], accuracy: 0.9719945679012346\n",
            "epoch: [36/50], accuracy: 0.9720011111111111\n",
            "epoch: [37/50], accuracy: 0.9721806172839507\n",
            "epoch: [38/50], accuracy: 0.9726338271604938\n",
            "epoch: [39/50], accuracy: 0.9724533333333333\n",
            "epoch: [40/50], accuracy: 0.9725923456790123\n",
            "epoch: [41/50], accuracy: 0.9727404938271605\n",
            "epoch: [42/50], accuracy: 0.9727498765432099\n",
            "epoch: [43/50], accuracy: 0.9728622222222222\n",
            "epoch: [44/50], accuracy: 0.9731288888888889\n",
            "epoch: [45/50], accuracy: 0.9733176543209876\n",
            "epoch: [46/50], accuracy: 0.9734601234567901\n",
            "epoch: [47/50], accuracy: 0.9735939506172839\n",
            "epoch: [48/50], accuracy: 0.9737448148148148\n",
            "epoch: [49/50], accuracy: 0.9737691358024692\n",
            "epoch: [50/50], accuracy: 0.97385\n"
          ],
          "name": "stdout"
        }
      ]
    },
    {
      "cell_type": "code",
      "metadata": {
        "id": "lrlNQAVHFXlV",
        "colab_type": "code",
        "outputId": "7b8ac9bb-eacf-40bd-d60a-f61b71f05f46",
        "colab": {
          "base_uri": "https://localhost:8080/",
          "height": 320
        }
      },
      "source": [
        "dat = pd.DataFrame({'a':np.array(accuracies)})\n",
        "dat['epoch'] = np.arange(epochs)\n",
        "\n",
        "fig, ax = plt.subplots(1, 1, figsize=(15,5))\n",
        "ax.plot(dat['epoch'], dat['a'], color='blue', label='Accuracy')\n",
        "ax.legend()\n",
        "\n",
        "plt.savefig(\"/content/drive/My Drive/Colab Notebooks/acc_\" + str(n) + \"_\" + str(n2) + \"_\" + str(c_mid) + \".png\")"
      ],
      "execution_count": 10,
      "outputs": [
        {
          "output_type": "display_data",
          "data": {
            "image/png": "[encoded data removed]",
            "text/plain": [
              "<Figure size 1080x360 with 1 Axes>"
            ]
          },
          "metadata": {
            "tags": [],
            "needs_background": "light"
          }
        }
      ]
    },
    {
      "cell_type": "code",
      "metadata": {
        "id": "gWjZk65ZscfM",
        "colab_type": "code",
        "colab": {}
      },
      "source": [
        "\n",
        "torch.save({\n",
        "            'model_state_dict': model.state_dict(),\n",
        "            'optimizer_state_dict': opt.state_dict(),\n",
        "            'accuracies': accuracies,\n",
        "            'epochs': epochs\n",
        "            }, \"/content/drive/My Drive/Colab Notebooks/model_\" + str(n) + \"_\" + str(n2) + \"_\" + str(c_mid) + \".tar\")\n",
        "\n"
      ],
      "execution_count": 0,
      "outputs": []
    },
    {
      "cell_type": "code",
      "metadata": {
        "id": "ZSASQSGZuwpl",
        "colab_type": "code",
        "colab": {}
      },
      "source": [
        ""
      ],
      "execution_count": 0,
      "outputs": []
    }
  ]
}