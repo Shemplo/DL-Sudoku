{
  "nbformat": 4,
  "nbformat_minor": 0,
  "metadata": {
    "colab": {
      "name": "Sudoku_test.ipynb",
      "provenance": []
    },
    "kernelspec": {
      "name": "python3",
      "display_name": "Python 3"
    },
    "accelerator": "GPU"
  },
  "cells": [
    {
      "cell_type": "code",
      "metadata": {
        "id": "BBGK85E_YxhO",
        "colab_type": "code",
        "outputId": "86a6d26d-6ace-4837-9aaa-9cbeb67407e7",
        "colab": {
          "base_uri": "https://localhost:8080/",
          "height": 51
        }
      },
      "source": [
        "import numpy as np\n",
        "from google.colab import drive\n",
        "drive.mount('/content/drive/', force_remount=True)\n",
        "%autosave 100"
      ],
      "execution_count": 16,
      "outputs": [
        {
          "output_type": "stream",
          "text": [
            "Mounted at /content/drive/\n"
          ],
          "name": "stdout"
        },
        {
          "output_type": "display_data",
          "data": {
            "application/javascript": [
              "IPython.notebook.set_autosave_interval(100000)"
            ]
          },
          "metadata": {
            "tags": []
          }
        },
        {
          "output_type": "stream",
          "text": [
            "Autosaving every 100 seconds\n"
          ],
          "name": "stdout"
        }
      ]
    },
    {
      "cell_type": "code",
      "metadata": {
        "id": "hNn-RJ98ZPpd",
        "colab_type": "code",
        "colab": {}
      },
      "source": [
        "import torch\n",
        "from torch import nn, optim\n",
        "from torch.utils.data import DataLoader\n",
        "import torch.nn.functional as F\n",
        "from torch.utils.data import Dataset\n",
        "\n",
        "import numpy as np\n",
        "import pandas as pd\n",
        "import matplotlib.pyplot as plt"
      ],
      "execution_count": 0,
      "outputs": []
    },
    {
      "cell_type": "code",
      "metadata": {
        "id": "H7rZPsnrZ_f6",
        "colab_type": "code",
        "outputId": "600ca72b-fe71-40a7-d729-db023f8c65b3",
        "colab": {
          "base_uri": "https://localhost:8080/",
          "height": 357
        }
      },
      "source": [
        "total=30\n",
        "\n",
        "quizes = np.empty((total, 81), np.float32)\n",
        "solutions = np.empty((total, 81), np.int64)\n",
        "\n",
        "i=0\n",
        "f = open(\"/content/drive/My Drive/Colab Notebooks/sudoku_test.csv\")\n",
        "for line in f:\n",
        "    quiz, solution = line.strip().split(\",\")\n",
        "    quizes[i] = [int(i) for i in quiz]\n",
        "    solutions[i] = [int(i) for i in solution]\n",
        "    i += 1\n",
        "\n",
        "quizes = quizes.reshape((-1, 9, 9))\n",
        "solutions = solutions.reshape((-1, 9, 9))\n",
        "\n",
        "print(\"quizes\\n\", quizes[0])\n",
        "print(\"solutions\\n\", solutions[0])"
      ],
      "execution_count": 4,
      "outputs": [
        {
          "output_type": "stream",
          "text": [
            "quizes\n",
            " [[0. 8. 0. 0. 3. 2. 0. 0. 1.]\n",
            " [7. 0. 3. 0. 8. 0. 0. 0. 2.]\n",
            " [5. 0. 0. 0. 0. 7. 0. 3. 0.]\n",
            " [0. 5. 0. 0. 0. 1. 9. 7. 0.]\n",
            " [6. 0. 0. 7. 0. 9. 0. 0. 8.]\n",
            " [0. 4. 7. 2. 0. 0. 0. 5. 0.]\n",
            " [0. 2. 0. 6. 0. 0. 0. 0. 9.]\n",
            " [8. 0. 0. 0. 9. 0. 3. 0. 5.]\n",
            " [3. 0. 0. 8. 2. 0. 0. 1. 0.]]\n",
            "solutions\n",
            " [[4 8 9 5 3 2 7 6 1]\n",
            " [7 1 3 4 8 6 5 9 2]\n",
            " [5 6 2 9 1 7 8 3 4]\n",
            " [2 5 8 3 4 1 9 7 6]\n",
            " [6 3 1 7 5 9 2 4 8]\n",
            " [9 4 7 2 6 8 1 5 3]\n",
            " [1 2 5 6 7 3 4 8 9]\n",
            " [8 7 6 1 9 4 3 2 5]\n",
            " [3 9 4 8 2 5 6 1 7]]\n"
          ],
          "name": "stdout"
        }
      ]
    },
    {
      "cell_type": "code",
      "metadata": {
        "id": "95OX9oFQmHZb",
        "colab_type": "code",
        "colab": {
          "base_uri": "https://localhost:8080/",
          "height": 281
        },
        "outputId": "01f575ae-59ff-48dc-a50a-65b61a0c4dfe"
      },
      "source": [
        "num_zeros = np.empty((total), np.float32)\n",
        "zeros_ = np.zeros_like(quizes[0])\n",
        "for i in range(quizes.shape[0]):\n",
        "    num_zeros[i] = np.sum(np.equal(zeros_, quizes[i]))\n",
        "\n",
        "plt.hist(num_zeros, bins = 8, density=True)\n",
        "plt.title(\"Distribution of spaces in puzzles\")\n",
        "plt.show()"
      ],
      "execution_count": 5,
      "outputs": [
        {
          "output_type": "display_data",
          "data": {
            "image/png": "[encoded data removed]",
            "text/plain": [
              "<Figure size 432x288 with 1 Axes>"
            ]
          },
          "metadata": {
            "tags": [],
            "needs_background": "light"
          }
        }
      ]
    },
    {
      "cell_type": "code",
      "metadata": {
        "id": "2DCWyU01ZdxI",
        "colab_type": "code",
        "colab": {}
      },
      "source": [
        "class ConvNet(nn.Module):\n",
        "  def __init__(self, c_in, c_out, filt=3, stride=1, padding=1):\n",
        "    super(ConvNet, self).__init__()\n",
        "\n",
        "    self.conv = nn.Conv2d(c_in, c_out, (filt, filt), stride=stride, padding=padding)\n",
        "    self.bn = nn.BatchNorm2d(c_out)\n",
        "  \n",
        "  def forward(self, x):\n",
        "    n, c, h, w = x.shape\n",
        "    z = F.relu(self.bn(self.conv(x)))\n",
        "    return z\n",
        "\n",
        "# n1 - number of conv layers with kernel size (3, 3) - try to learn local\n",
        "# n2 - number of conv layers with kernel size (9, 9) - try to learn global\n",
        "# c_mid - number of kernels in conv layers\n",
        "class SudokuNet(nn.Module):\n",
        "  # !!! c_out should be 10 !!!\n",
        "  def __init__(self, n, n2, c_mid, c_in=1, c_out=10):\n",
        "    super(SudokuNet, self).__init__()\n",
        "    self.conv1 = ConvNet(c_in, c_mid)\n",
        "\n",
        "    self.seq = nn.Sequential()\n",
        "    for i in range(n):\n",
        "      self.seq.add_module(str(i), ConvNet(c_mid, c_mid, 3, 1, 1))\n",
        "\n",
        "    self.seq2 = nn.Sequential()\n",
        "    for i in range(n2):\n",
        "      self.seq2.add_module(str(i), ConvNet(c_mid, c_mid, 9, 1, 4))\n",
        "\n",
        "\n",
        "    self.convLast = nn.Conv2d(c_mid, c_out, (3,3), stride=1, padding=1)\n",
        "    self.logsoftmax = nn.LogSoftmax(dim=1)\n",
        "\n",
        "    \n",
        "  def forward(self, x):\n",
        "    z = self.conv1(x)\n",
        "    z = self.seq(z)\n",
        "    z = self.seq2(z)\n",
        "    z = self.logsoftmax(self.convLast(z))\n",
        "    return z\n"
      ],
      "execution_count": 0,
      "outputs": []
    },
    {
      "cell_type": "code",
      "metadata": {
        "id": "2jjA5bI4aVC0",
        "colab_type": "code",
        "colab": {}
      },
      "source": [
        "# get accuracy in range [start, end) with batch_size\n",
        "# change start/end to reduce running time\n",
        "# choose wisely, so that |train| : |test| = 9 : 1 (or 99 : 1)\n",
        "def get_accuracy(model, batch_size, start, end):\n",
        "    model.train(mode=False)\n",
        "\n",
        "    total_samples = 0\n",
        "    total_correct = 0\n",
        "    known_samples = 0\n",
        "    known_correct = 0\n",
        "    \n",
        "    zeros_count = 0\n",
        "\n",
        "    for i in range(start, end, batch_size):\n",
        "        x = quizes[i:i+batch_size]\n",
        "        y = solutions[i:i+batch_size]\n",
        "        x = x[:, np.newaxis]\n",
        "\n",
        "        X, y = torch.from_numpy(x), torch.from_numpy(y)\n",
        "        zeros_ = torch.zeros_like(y)\n",
        "\n",
        "        if torch.cuda.is_available():\n",
        "            X = X.cuda()\n",
        "            y = y.cuda()\n",
        "            x_ = torch.from_numpy(quizes[i:i+batch_size]).cuda()\n",
        "            zeros_ = zeros_.cuda()\n",
        "\n",
        "\n",
        "        y_ = model(X)\n",
        "        _, y_ = torch.max(y_, axis=1)\n",
        "        \n",
        "        total_samples += 81 * batch_size\n",
        "        sum_ = torch.sum(torch.eq(y_, y).type(torch.FloatTensor))\n",
        "        total_correct += sum_.item()\n",
        "        \n",
        "        known_samp_ = 81 * batch_size - np.sum(num_zeros[i:i+batch_size])\n",
        "        known_samples += known_samp_\n",
        "        known_sum_ = torch.sum(torch.eq(y_, x_).type(torch.FloatTensor))\n",
        "        known_correct += known_sum_.item()\n",
        "\n",
        "        zeros_count += torch.sum(torch.eq(y_, zeros_).type(torch.FloatTensor)).item()\n",
        "\n",
        "        print(f'batch: {i}, total_correct: [{int(sum_.item())}/{81*batch_size}], known_correct: [{int(known_sum_.item())}/{int(known_samp_)}], unknown_correct: [{int(sum_.item()) - int(known_sum_.item())}/{int(81*batch_size - known_samp_)}], zeros in answer: {int(zeros_count)}')\n",
        "\n",
        "    return total_correct / total_samples, known_correct / known_samples, (total_correct - known_correct) / (total_samples - known_samples), zeros_count"
      ],
      "execution_count": 0,
      "outputs": []
    },
    {
      "cell_type": "code",
      "metadata": {
        "id": "QXaT3OGNahmg",
        "colab_type": "code",
        "outputId": "298b11b9-2e42-45be-b63e-89348f8ebc78",
        "colab": {
          "base_uri": "https://localhost:8080/",
          "height": 34
        }
      },
      "source": [
        "n = 10\n",
        "n2 = 0\n",
        "c_mid=100\n",
        "model = SudokuNet(n=n, n2=n2, c_mid=c_mid)\n",
        "if torch.cuda.is_available():\n",
        "    print(\"cuda\")\n",
        "    model.cuda()\n",
        "else:\n",
        "    print(\"cpu\")"
      ],
      "execution_count": 13,
      "outputs": [
        {
          "output_type": "stream",
          "text": [
            "cuda\n"
          ],
          "name": "stdout"
        }
      ]
    },
    {
      "cell_type": "code",
      "metadata": {
        "id": "vdpPqQcpaiUN",
        "colab_type": "code",
        "outputId": "bc3b9526-ba82-4608-ba3a-ddd284a64968",
        "colab": {
          "base_uri": "https://localhost:8080/",
          "height": 34
        }
      },
      "source": [
        "# load model from Sudoku_train.ipynb\n",
        "checkpoint = torch.load(\"/content/drive/My Drive/Colab Notebooks/model_\" + str(n) + \"_\" + str(n2) + \"_\" + str(c_mid) + \".tar\")\n",
        "model.load_state_dict(checkpoint['model_state_dict'])\n"
      ],
      "execution_count": 14,
      "outputs": [
        {
          "output_type": "execute_result",
          "data": {
            "text/plain": [
              "<All keys matched successfully>"
            ]
          },
          "metadata": {
            "tags": []
          },
          "execution_count": 14
        }
      ]
    },
    {
      "cell_type": "code",
      "metadata": {
        "id": "S9HVo5Zta-yT",
        "colab_type": "code",
        "outputId": "0a3b9ae5-e257-483c-9bef-ef676b6e3d93",
        "colab": {
          "base_uri": "https://localhost:8080/",
          "height": 595
        }
      },
      "source": [
        "total_accuracies, known_accuracies, unknown_accuracies, zeros_count = get_accuracy(model, 1, 0, total)\n",
        "print(f\"Total accuracy: {total_accuracies} on {total} tests\")\n",
        "print(f\"Known accuracy: {known_accuracies} on {total} tests\")\n",
        "print(f\"Unknown accuracy: {unknown_accuracies} on {total} tests\")\n",
        "print(f\"Zeros count: {zeros_count} on {total} tests\")"
      ],
      "execution_count": 15,
      "outputs": [
        {
          "output_type": "stream",
          "text": [
            "batch: 0, total_correct: [78/81], known_correct: [34/34], unknown_correct: [44/47], zeros in answer: 0\n",
            "batch: 1, total_correct: [77/81], known_correct: [36/36], unknown_correct: [41/45], zeros in answer: 0\n",
            "batch: 2, total_correct: [77/81], known_correct: [34/34], unknown_correct: [43/47], zeros in answer: 0\n",
            "batch: 3, total_correct: [72/81], known_correct: [36/36], unknown_correct: [36/45], zeros in answer: 0\n",
            "batch: 4, total_correct: [70/81], known_correct: [34/34], unknown_correct: [36/47], zeros in answer: 0\n",
            "batch: 5, total_correct: [76/81], known_correct: [35/35], unknown_correct: [41/46], zeros in answer: 0\n",
            "batch: 6, total_correct: [54/81], known_correct: [28/28], unknown_correct: [26/53], zeros in answer: 0\n",
            "batch: 7, total_correct: [60/81], known_correct: [26/26], unknown_correct: [34/55], zeros in answer: 0\n",
            "batch: 8, total_correct: [57/81], known_correct: [26/26], unknown_correct: [31/55], zeros in answer: 0\n",
            "batch: 9, total_correct: [60/81], known_correct: [28/28], unknown_correct: [32/53], zeros in answer: 0\n",
            "batch: 10, total_correct: [55/81], known_correct: [29/29], unknown_correct: [26/52], zeros in answer: 0\n",
            "batch: 11, total_correct: [48/81], known_correct: [25/25], unknown_correct: [23/56], zeros in answer: 0\n",
            "batch: 12, total_correct: [62/81], known_correct: [25/25], unknown_correct: [37/56], zeros in answer: 0\n",
            "batch: 13, total_correct: [60/81], known_correct: [26/26], unknown_correct: [34/55], zeros in answer: 0\n",
            "batch: 14, total_correct: [65/81], known_correct: [26/26], unknown_correct: [39/55], zeros in answer: 0\n",
            "batch: 15, total_correct: [51/81], known_correct: [24/24], unknown_correct: [27/57], zeros in answer: 0\n",
            "batch: 16, total_correct: [58/81], known_correct: [26/26], unknown_correct: [32/55], zeros in answer: 0\n",
            "batch: 17, total_correct: [54/81], known_correct: [25/25], unknown_correct: [29/56], zeros in answer: 0\n",
            "batch: 18, total_correct: [55/81], known_correct: [25/25], unknown_correct: [30/56], zeros in answer: 0\n",
            "batch: 19, total_correct: [60/81], known_correct: [26/26], unknown_correct: [34/55], zeros in answer: 0\n",
            "batch: 20, total_correct: [62/81], known_correct: [27/27], unknown_correct: [35/54], zeros in answer: 0\n",
            "batch: 21, total_correct: [58/81], known_correct: [26/26], unknown_correct: [32/55], zeros in answer: 0\n",
            "batch: 22, total_correct: [53/81], known_correct: [26/26], unknown_correct: [27/55], zeros in answer: 0\n",
            "batch: 23, total_correct: [51/81], known_correct: [27/27], unknown_correct: [24/54], zeros in answer: 0\n",
            "batch: 24, total_correct: [68/81], known_correct: [31/31], unknown_correct: [37/50], zeros in answer: 0\n",
            "batch: 25, total_correct: [70/81], known_correct: [31/31], unknown_correct: [39/50], zeros in answer: 0\n",
            "batch: 26, total_correct: [57/81], known_correct: [32/32], unknown_correct: [25/49], zeros in answer: 0\n",
            "batch: 27, total_correct: [60/81], known_correct: [28/28], unknown_correct: [32/53], zeros in answer: 0\n",
            "batch: 28, total_correct: [68/81], known_correct: [30/30], unknown_correct: [38/51], zeros in answer: 0\n",
            "batch: 29, total_correct: [72/81], known_correct: [30/30], unknown_correct: [42/51], zeros in answer: 0\n",
            "Total accuracy: 0.7687242798353909 on 30 tests\n",
            "Known accuracy: 1.0 on 30 tests\n",
            "Unknown accuracy: 0.6415816326530612 on 30 tests\n",
            "Zeros count: 0.0 on 30 tests\n"
          ],
          "name": "stdout"
        }
      ]
    },
    {
      "cell_type": "code",
      "metadata": {
        "id": "N_b8CfkdetfE",
        "colab_type": "code",
        "colab": {}
      },
      "source": [
        ""
      ],
      "execution_count": 0,
      "outputs": []
    }
  ]
}