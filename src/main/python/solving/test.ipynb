{
 "cells": [
  {
   "cell_type": "code",
   "execution_count": 1,
   "metadata": {},
   "outputs": [],
   "source": [
    "import torch\n",
    "from torch import nn, optim\n",
    "from torch.utils.data import DataLoader\n",
    "import torch.nn.functional as F\n",
    "from torch.utils.data import Dataset\n",
    "\n",
    "import numpy as np\n",
    "import pandas as pd\n",
    "import matplotlib.pyplot as plt"
   ]
  },
  {
   "cell_type": "code",
   "execution_count": 2,
   "metadata": {},
   "outputs": [],
   "source": [
    "import utils\n",
    "import model"
   ]
  },
  {
   "cell_type": "code",
   "execution_count": 3,
   "metadata": {},
   "outputs": [
    {
     "name": "stdout",
     "output_type": "stream",
     "text": [
      "loaded 10 %\n",
      "loaded 20 %\n",
      "loaded 30 %\n",
      "loaded 40 %\n",
      "loaded 50 %\n",
      "loaded 60 %\n",
      "loaded 70 %\n",
      "loaded 80 %\n",
      "loaded 90 %\n",
      "loaded 100 %\n",
      "quizes\n",
      " (30, 9, 9) [[0. 8. 0. 0. 3. 2. 0. 0. 1.]\n",
      " [7. 0. 3. 0. 8. 0. 0. 0. 2.]\n",
      " [5. 0. 0. 0. 0. 7. 0. 3. 0.]\n",
      " [0. 5. 0. 0. 0. 1. 9. 7. 0.]\n",
      " [6. 0. 0. 7. 0. 9. 0. 0. 8.]\n",
      " [0. 4. 7. 2. 0. 0. 0. 5. 0.]\n",
      " [0. 2. 0. 6. 0. 0. 0. 0. 9.]\n",
      " [8. 0. 0. 0. 9. 0. 3. 0. 5.]\n",
      " [3. 0. 0. 8. 2. 0. 0. 1. 0.]]\n",
      "solutions\n",
      " (30, 9, 9) [[4 8 9 5 3 2 7 6 1]\n",
      " [7 1 3 4 8 6 5 9 2]\n",
      " [5 6 2 9 1 7 8 3 4]\n",
      " [2 5 8 3 4 1 9 7 6]\n",
      " [6 3 1 7 5 9 2 4 8]\n",
      " [9 4 7 2 6 8 1 5 3]\n",
      " [1 2 5 6 7 3 4 8 9]\n",
      " [8 7 6 1 9 4 3 2 5]\n",
      " [3 9 4 8 2 5 6 1 7]]\n"
     ]
    }
   ],
   "source": [
    "total=30\n",
    "quizes, solutions = utils.loadDataset(\"sudoku_test.csv\", total)"
   ]
  },
  {
   "cell_type": "code",
   "execution_count": 4,
   "metadata": {},
   "outputs": [
    {
     "data": {
      "image/png": "[encoded data removed]",
      "text/plain": [
       "<Figure size 720x216 with 1 Axes>"
      ]
     },
     "metadata": {
      "needs_background": "light"
     },
     "output_type": "display_data"
    }
   ],
   "source": [
    "utils.drawBlanksDistribution(quizes, total)"
   ]
  },
  {
   "cell_type": "code",
   "execution_count": 5,
   "metadata": {},
   "outputs": [
    {
     "name": "stdout",
     "output_type": "stream",
     "text": [
      "cpu\n"
     ]
    },
    {
     "data": {
      "text/plain": [
       "<All keys matched successfully>"
      ]
     },
     "execution_count": 5,
     "metadata": {},
     "output_type": "execute_result"
    }
   ],
   "source": [
    "solver = model.SudokuSolver(n=10, c_mid=100)\n",
    "checkpoint = torch.load(\"sudoku_res2net_model.tar\", map_location=torch.device('cpu'))\n",
    "solver.model.load_state_dict(checkpoint['model_state_dict'])"
   ]
  },
  {
   "cell_type": "code",
   "execution_count": 6,
   "metadata": {},
   "outputs": [
    {
     "data": {
      "image/png": "[encoded data removed]",
      "text/plain": [
       "<Figure size 720x216 with 1 Axes>"
      ]
     },
     "metadata": {
      "needs_background": "light"
     },
     "output_type": "display_data"
    }
   ],
   "source": [
    "utils.plotAccuracy(checkpoint['total_accuracies'], checkpoint['known_accuracies'], checkpoint['unknown_accuracies'], 10)"
   ]
  },
  {
   "cell_type": "code",
   "execution_count": 7,
   "metadata": {},
   "outputs": [
    {
     "name": "stdout",
     "output_type": "stream",
     "text": [
      "batch: 0, total_correct: [81/81], known_correct: [34/34], unknown_correct: [47/47], zeros in answer: 0\n",
      "batch: 1, total_correct: [81/81], known_correct: [36/36], unknown_correct: [45/45], zeros in answer: 0\n",
      "batch: 2, total_correct: [81/81], known_correct: [34/34], unknown_correct: [47/47], zeros in answer: 0\n",
      "batch: 3, total_correct: [81/81], known_correct: [36/36], unknown_correct: [45/45], zeros in answer: 0\n",
      "batch: 4, total_correct: [81/81], known_correct: [34/34], unknown_correct: [47/47], zeros in answer: 0\n",
      "batch: 5, total_correct: [81/81], known_correct: [35/35], unknown_correct: [46/46], zeros in answer: 0\n",
      "batch: 6, total_correct: [81/81], known_correct: [28/28], unknown_correct: [53/53], zeros in answer: 0\n",
      "batch: 7, total_correct: [81/81], known_correct: [26/26], unknown_correct: [55/55], zeros in answer: 0\n",
      "batch: 8, total_correct: [81/81], known_correct: [26/26], unknown_correct: [55/55], zeros in answer: 0\n",
      "batch: 9, total_correct: [46/81], known_correct: [28/28], unknown_correct: [18/53], zeros in answer: 0\n",
      "batch: 10, total_correct: [81/81], known_correct: [29/29], unknown_correct: [52/52], zeros in answer: 0\n",
      "batch: 11, total_correct: [52/81], known_correct: [25/25], unknown_correct: [27/56], zeros in answer: 0\n",
      "batch: 12, total_correct: [57/81], known_correct: [25/25], unknown_correct: [32/56], zeros in answer: 0\n",
      "batch: 13, total_correct: [81/81], known_correct: [26/26], unknown_correct: [55/55], zeros in answer: 0\n",
      "batch: 14, total_correct: [81/81], known_correct: [26/26], unknown_correct: [55/55], zeros in answer: 0\n",
      "batch: 15, total_correct: [81/81], known_correct: [24/24], unknown_correct: [57/57], zeros in answer: 0\n",
      "batch: 16, total_correct: [48/81], known_correct: [26/26], unknown_correct: [22/55], zeros in answer: 0\n",
      "batch: 17, total_correct: [49/81], known_correct: [25/25], unknown_correct: [24/56], zeros in answer: 0\n",
      "batch: 18, total_correct: [56/81], known_correct: [25/25], unknown_correct: [31/56], zeros in answer: 0\n",
      "batch: 19, total_correct: [81/81], known_correct: [26/26], unknown_correct: [55/55], zeros in answer: 0\n",
      "batch: 20, total_correct: [81/81], known_correct: [27/27], unknown_correct: [54/54], zeros in answer: 0\n",
      "batch: 21, total_correct: [81/81], known_correct: [26/26], unknown_correct: [55/55], zeros in answer: 0\n",
      "batch: 22, total_correct: [81/81], known_correct: [26/26], unknown_correct: [55/55], zeros in answer: 0\n",
      "batch: 23, total_correct: [81/81], known_correct: [27/27], unknown_correct: [54/54], zeros in answer: 0\n",
      "batch: 24, total_correct: [81/81], known_correct: [31/31], unknown_correct: [50/50], zeros in answer: 0\n",
      "batch: 25, total_correct: [81/81], known_correct: [31/31], unknown_correct: [50/50], zeros in answer: 0\n",
      "batch: 26, total_correct: [81/81], known_correct: [32/32], unknown_correct: [49/49], zeros in answer: 0\n",
      "batch: 27, total_correct: [81/81], known_correct: [28/28], unknown_correct: [53/53], zeros in answer: 0\n",
      "batch: 28, total_correct: [81/81], known_correct: [30/30], unknown_correct: [51/51], zeros in answer: 0\n",
      "batch: 29, total_correct: [81/81], known_correct: [30/30], unknown_correct: [51/51], zeros in answer: 0\n",
      "Total accuracy: 0.9267489711934156 on 30 tests\n",
      "Known accuracy: 1.0 on 30 tests\n",
      "Unknown accuracy: 0.8864795918367347 on 30 tests\n",
      "Zeros count: 0.0 on 30 tests\n"
     ]
    }
   ],
   "source": [
    "total_accuracies, known_accuracies, unknown_accuracies, zeros_count = solver.get_accuracy(quizes, solutions, total, batch_size=1, start=0, end=total, iterative=True)\n",
    "print(f\"Total accuracy: {total_accuracies} on {total} tests\")\n",
    "print(f\"Known accuracy: {known_accuracies} on {total} tests\")\n",
    "print(f\"Unknown accuracy: {unknown_accuracies} on {total} tests\")\n",
    "print(f\"Zeros count: {zeros_count} on {total} tests\")"
   ]
  }
 ],
 "metadata": {
  "kernelspec": {
   "display_name": "Python 3",
   "language": "python",
   "name": "python3"
  },
  "language_info": {
   "codemirror_mode": {
    "name": "ipython",
    "version": 3
   },
   "file_extension": ".py",
   "mimetype": "text/x-python",
   "name": "python",
   "nbconvert_exporter": "python",
   "pygments_lexer": "ipython3",
   "version": "3.7.4"
  }
 },
 "nbformat": 4,
 "nbformat_minor": 4
}
